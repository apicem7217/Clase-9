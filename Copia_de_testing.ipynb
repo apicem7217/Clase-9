{
  "cells": [
    {
      "cell_type": "markdown",
      "metadata": {
        "id": "view-in-github",
        "colab_type": "text"
      },
      "source": [
        "<a href=\"https://colab.research.google.com/github/apicem7217/Clase-9/blob/Phyton/Copia_de_testing.ipynb\" target=\"_parent\"><img src=\"https://colab.research.google.com/assets/colab-badge.svg\" alt=\"Open In Colab\"/></a>"
      ]
    },
    {
      "cell_type": "markdown",
      "id": "7820a007",
      "metadata": {
        "id": "7820a007"
      },
      "source": [
        "## Testing"
      ]
    },
    {
      "cell_type": "markdown",
      "id": "3cbe2bd5",
      "metadata": {
        "id": "3cbe2bd5"
      },
      "source": [
        "![](https://github.com/khuyentran1401/Efficient_Python_tricks_and_tools_for_data_scientists/blob/master/img/test.png?raw=1)"
      ]
    },
    {
      "cell_type": "markdown",
      "id": "7d27151c",
      "metadata": {
        "id": "7d27151c"
      },
      "source": [
        "### Efficiently Resume Work After Breaks with Failing Tests"
      ]
    },
    {
      "cell_type": "markdown",
      "id": "da73f044",
      "metadata": {
        "id": "da73f044"
      },
      "source": [
        "Do you forget what feature to implement when taking a break from work?\n",
        "\n",
        "To keep your train of thought, write a unit test that describes the desired behavior of the feature and makes it fail intentionally.\n",
        "\n",
        "This will give you a clear idea of what to work on when returning to the project, allowing you to get back on track faster."
      ]
    },
    {
      "cell_type": "markdown",
      "id": "bb60f354",
      "metadata": {
        "id": "bb60f354"
      },
      "source": [
        "```python\n",
        "def calculate_average(nums: list):\n",
        "    return sum(nums)/len(nums)\n",
        "    # TODO: code to handle an empty list\n",
        "\n",
        "def test_calculate_average_two_nums():\n",
        "    # Will work\n",
        "    nums = [2, 3]\n",
        "    assert calculate_average(nums) == 2.5\n",
        "\n",
        "def test_calculate_average_empty_list():\n",
        "    # Will fail intentionally\n",
        "    nums = []\n",
        "    return calculate_average(nums) == 0\n",
        "```"
      ]
    },
    {
      "cell_type": "markdown",
      "id": "1084abc7",
      "metadata": {
        "id": "1084abc7"
      },
      "source": [
        "### Choose a Descriptive Name Over a Short One When Naming Your Function"
      ]
    },
    {
      "cell_type": "markdown",
      "id": "13177a59",
      "metadata": {
        "id": "13177a59"
      },
      "source": [
        "Using a short and unclear name for a testing function may lead to confusion and misunderstandings. To make your tests more readable, use a descriptive name instead, even if it results in a longer name."
      ]
    },
    {
      "cell_type": "markdown",
      "id": "a34b1732",
      "metadata": {
        "id": "a34b1732"
      },
      "source": [
        "Instead of this:"
      ]
    },
    {
      "cell_type": "markdown",
      "id": "ffa99266",
      "metadata": {
        "id": "ffa99266"
      },
      "source": [
        "```python\n",
        "def contain_word(word: str, text: str):\n",
        "    return word in text\n",
        "\n",
        "\n",
        "def test_contain_word_1():\n",
        "    assert contain_word(word=\"duck\", text=\"This is a duck\")\n",
        "\n",
        "\n",
        "def test_contain_word_2():\n",
        "    assert contain_word(word=\"duck\", text=\"This is my coworker, Mr. Duck\")\n",
        "```"
      ]
    },
    {
      "cell_type": "markdown",
      "id": "5ee780d5",
      "metadata": {
        "id": "5ee780d5"
      },
      "source": [
        "Write this:"
      ]
    },
    {
      "cell_type": "markdown",
      "id": "45446ca6",
      "metadata": {
        "id": "45446ca6"
      },
      "source": [
        "```python\n",
        "def contain_word(word: str, text: str):\n",
        "    return word in text\n",
        "\n",
        "\n",
        "def test_contain_word_exact():\n",
        "    assert contain_word(word=\"duck\", text=\"This is a duck\")\n",
        "\n",
        "\n",
        "def test_contain_word_different_case():\n",
        "    assert contain_word(word=\"duck\", text=\"This is my coworker, Mr. Duck\")\n",
        "```"
      ]
    },
    {
      "cell_type": "markdown",
      "id": "9c57c914",
      "metadata": {
        "id": "9c57c914"
      },
      "source": [
        "### pytest benchmark: A Pytest Fixture to Benchmark Your Code"
      ]
    },
    {
      "cell_type": "code",
      "execution_count": null,
      "id": "14c189b0",
      "metadata": {
        "tags": [
          "hide-cell"
        ],
        "id": "14c189b0",
        "outputId": "48327d0c-9747-4690-e2cd-e24985adfb70",
        "colab": {
          "base_uri": "https://localhost:8080/"
        }
      },
      "outputs": [
        {
          "output_type": "stream",
          "name": "stdout",
          "text": [
            "Collecting pytest-benchmark\n",
            "  Downloading pytest_benchmark-4.0.0-py3-none-any.whl (43 kB)\n",
            "\u001b[2K     \u001b[90m━━━━━━━━━━━━━━━━━━━━━━━━━━━━━━━━━━━━━━━\u001b[0m \u001b[32m44.0/44.0 kB\u001b[0m \u001b[31m326.7 kB/s\u001b[0m eta \u001b[36m0:00:00\u001b[0m\n",
            "\u001b[?25hRequirement already satisfied: pytest>=3.8 in /usr/local/lib/python3.10/dist-packages (from pytest-benchmark) (7.2.2)\n",
            "Requirement already satisfied: py-cpuinfo in /usr/local/lib/python3.10/dist-packages (from pytest-benchmark) (9.0.0)\n",
            "Requirement already satisfied: attrs>=19.2.0 in /usr/local/lib/python3.10/dist-packages (from pytest>=3.8->pytest-benchmark) (23.1.0)\n",
            "Requirement already satisfied: iniconfig in /usr/local/lib/python3.10/dist-packages (from pytest>=3.8->pytest-benchmark) (2.0.0)\n",
            "Requirement already satisfied: packaging in /usr/local/lib/python3.10/dist-packages (from pytest>=3.8->pytest-benchmark) (23.1)\n",
            "Requirement already satisfied: pluggy<2.0,>=0.12 in /usr/local/lib/python3.10/dist-packages (from pytest>=3.8->pytest-benchmark) (1.2.0)\n",
            "Requirement already satisfied: exceptiongroup>=1.0.0rc8 in /usr/local/lib/python3.10/dist-packages (from pytest>=3.8->pytest-benchmark) (1.1.2)\n",
            "Requirement already satisfied: tomli>=1.0.0 in /usr/local/lib/python3.10/dist-packages (from pytest>=3.8->pytest-benchmark) (2.0.1)\n",
            "Installing collected packages: pytest-benchmark\n",
            "Successfully installed pytest-benchmark-4.0.0\n"
          ]
        }
      ],
      "source": [
        "!pip install pytest-benchmark"
      ]
    },
    {
      "cell_type": "markdown",
      "id": "aaf852a8",
      "metadata": {
        "id": "aaf852a8"
      },
      "source": [
        "If you want to benchmark your code while testing with pytest, try pytest-benchmark."
      ]
    },
    {
      "cell_type": "markdown",
      "id": "815482f8",
      "metadata": {
        "ExecuteTime": {
          "end_time": "2021-09-11T18:42:17.296160Z",
          "start_time": "2021-09-11T18:42:17.288429Z"
        },
        "id": "815482f8"
      },
      "source": [
        "To use pytest-benchmark works, add `benchmark` to the test function that you want to benchmark."
      ]
    },
    {
      "cell_type": "code",
      "execution_count": null,
      "id": "9407e3ba",
      "metadata": {
        "id": "9407e3ba",
        "outputId": "dc3fed31-7cb7-47a0-d90d-250f20f52483",
        "colab": {
          "base_uri": "https://localhost:8080/"
        }
      },
      "outputs": [
        {
          "output_type": "stream",
          "name": "stdout",
          "text": [
            "Writing pytest_benchmark_example.py\n"
          ]
        }
      ],
      "source": [
        "%%writefile pytest_benchmark_example.py\n",
        "def list_comprehension(len_list=5):\n",
        "    return [i for i in range(len_list)]\n",
        "\n",
        "\n",
        "def test_concat(benchmark):\n",
        "    res = benchmark(list_comprehension)\n",
        "    assert res == [0, 1, 2, 3, 4]"
      ]
    },
    {
      "cell_type": "markdown",
      "id": "7e4fa910",
      "metadata": {
        "id": "7e4fa910"
      },
      "source": [
        "On your terminal, type:\n",
        "```bash\n",
        "$ pytest pytest_benchmark_example.py\n",
        "```\n",
        "Now you should see the statistics of the time it takes to execute the test functions on your terminal:"
      ]
    },
    {
      "cell_type": "code",
      "execution_count": null,
      "id": "b8ae8527",
      "metadata": {
        "ExecuteTime": {
          "end_time": "2021-09-12T16:36:26.021951Z",
          "start_time": "2021-09-12T16:36:22.946901Z"
        },
        "tags": [
          "remove-input"
        ],
        "id": "b8ae8527",
        "outputId": "5059d145-49fc-453e-d2d6-1b86a1fa0648",
        "colab": {
          "base_uri": "https://localhost:8080/"
        }
      },
      "outputs": [
        {
          "output_type": "stream",
          "name": "stdout",
          "text": [
            "\u001b[1m============================= test session starts ==============================\u001b[0m\n",
            "platform linux -- Python 3.10.6, pytest-7.2.2, pluggy-1.2.0\n",
            "benchmark: 4.0.0 (defaults: timer=time.perf_counter disable_gc=False min_rounds=5 min_time=0.000005 max_time=1.0 calibration_precision=10 warmup=False warmup_iterations=100000)\n",
            "rootdir: /content\n",
            "plugins: benchmark-4.0.0, anyio-3.7.1\n",
            "\u001b[1mcollecting ... \u001b[0m\u001b[1m\rcollected 1 item                                                               \u001b[0m\n",
            "\n",
            "pytest_benchmark_example.py \u001b[32m.\u001b[0m\u001b[32m                                            [100%]\u001b[0m\n",
            "\n",
            "\n",
            "\u001b[33m----------------------------------------------------------- benchmark: 1 tests ----------------------------------------------------------\u001b[0m\n",
            "Name (time in ns)          Min             Max        Mean       StdDev      Median       IQR  Outliers  OPS (Kops/s)  Rounds  Iterations\n",
            "\u001b[33m-----------------------------------------------------------------------------------------------------------------------------------------\u001b[0m\n",
            "test_concat         \u001b[1m  658.0000\u001b[0m\u001b[1m  7,641,841.0000\u001b[0m\u001b[1m  2,282.4058\u001b[0m\u001b[1m  40,586.9082\u001b[0m\u001b[1m  1,210.0000\u001b[0m\u001b[1m  198.0000\u001b[0m  159;1752\u001b[1m      438.1342\u001b[0m  102565           1\n",
            "\u001b[33m-----------------------------------------------------------------------------------------------------------------------------------------\u001b[0m\n",
            "\n",
            "Legend:\n",
            "  Outliers: 1 Standard Deviation from Mean; 1.5 IQR (InterQuartile Range) from 1st Quartile and 3rd Quartile.\n",
            "  OPS: Operations Per Second, computed as 1 / Mean\n",
            "\u001b[32m============================== \u001b[32m\u001b[1m1 passed\u001b[0m\u001b[32m in 2.21s\u001b[0m\u001b[32m ===============================\u001b[0m\n"
          ]
        }
      ],
      "source": [
        "!pytest pytest_benchmark_example.py"
      ]
    },
    {
      "cell_type": "markdown",
      "id": "14d71ab4",
      "metadata": {
        "id": "14d71ab4"
      },
      "source": [
        "[Link to pytest-benchmark](https://github.com/ionelmc/pytest-benchmark)."
      ]
    },
    {
      "cell_type": "markdown",
      "id": "ec5bd092",
      "metadata": {
        "id": "ec5bd092"
      },
      "source": [
        "### pytest.mark.parametrize: Test Your Functions with Multiple Inputs"
      ]
    },
    {
      "cell_type": "code",
      "execution_count": null,
      "id": "98c2d9ec",
      "metadata": {
        "tags": [
          "hide-cell"
        ],
        "id": "98c2d9ec",
        "outputId": "7a12b21f-147a-4e8f-fdbb-63210cf3ba41",
        "colab": {
          "base_uri": "https://localhost:8080/"
        }
      },
      "outputs": [
        {
          "output_type": "stream",
          "name": "stdout",
          "text": [
            "Requirement already satisfied: pytest in /usr/local/lib/python3.10/dist-packages (7.2.2)\n",
            "Requirement already satisfied: attrs>=19.2.0 in /usr/local/lib/python3.10/dist-packages (from pytest) (23.1.0)\n",
            "Requirement already satisfied: iniconfig in /usr/local/lib/python3.10/dist-packages (from pytest) (2.0.0)\n",
            "Requirement already satisfied: packaging in /usr/local/lib/python3.10/dist-packages (from pytest) (23.1)\n",
            "Requirement already satisfied: pluggy<2.0,>=0.12 in /usr/local/lib/python3.10/dist-packages (from pytest) (1.2.0)\n",
            "Requirement already satisfied: exceptiongroup>=1.0.0rc8 in /usr/local/lib/python3.10/dist-packages (from pytest) (1.1.2)\n",
            "Requirement already satisfied: tomli>=1.0.0 in /usr/local/lib/python3.10/dist-packages (from pytest) (2.0.1)\n"
          ]
        }
      ],
      "source": [
        "!pip install pytest"
      ]
    },
    {
      "cell_type": "markdown",
      "id": "21e88ff1",
      "metadata": {
        "id": "21e88ff1"
      },
      "source": [
        "If you want to test your function with different examples, use `pytest.mark.parametrize` decorator.\n",
        "\n",
        "To use `pytest.mark.parametrize`, add `@pytest.mark.parametrize` to the test function that you want to experiment with."
      ]
    },
    {
      "cell_type": "code",
      "execution_count": null,
      "id": "31ad6ba7",
      "metadata": {
        "ExecuteTime": {
          "end_time": "2021-09-11T18:43:09.283883Z",
          "start_time": "2021-09-11T18:43:09.273973Z"
        },
        "id": "31ad6ba7",
        "outputId": "4084a597-27e5-418d-d77b-2e44143e2b4e",
        "colab": {
          "base_uri": "https://localhost:8080/"
        }
      },
      "outputs": [
        {
          "output_type": "stream",
          "name": "stdout",
          "text": [
            "Writing pytest_parametrize.py\n"
          ]
        }
      ],
      "source": [
        "%%writefile pytest_parametrize.py\n",
        "import pytest\n",
        "\n",
        "def text_contain_word(word: str, text: str):\n",
        "    '''Find whether the text contains a particular word'''\n",
        "\n",
        "    return word in text\n",
        "\n",
        "test = [\n",
        "    ('There is a duck in this text',True),\n",
        "    ('There is nothing here', False)\n",
        "    ]\n",
        "\n",
        "@pytest.mark.parametrize('sample, expected', test)\n",
        "def test_text_contain_word(sample, expected):\n",
        "\n",
        "    word = 'duck'\n",
        "\n",
        "    assert text_contain_word(word, sample) == expected"
      ]
    },
    {
      "cell_type": "markdown",
      "id": "4263702d",
      "metadata": {
        "id": "4263702d"
      },
      "source": [
        "In the code above, I expect the first sentence to contain the word “duck” and expect the second sentence not to contain that word. Let's see if my expectations are correct by running:\n",
        "```bash\n",
        "$ pytest pytest_parametrize.py\n",
        "```"
      ]
    },
    {
      "cell_type": "code",
      "execution_count": null,
      "id": "031ac02c",
      "metadata": {
        "ExecuteTime": {
          "end_time": "2021-09-11T18:43:10.924823Z",
          "start_time": "2021-09-11T18:43:10.494719Z"
        },
        "tags": [
          "remove-input"
        ],
        "id": "031ac02c",
        "outputId": "4d133c53-a20f-48c8-c2c2-a22daa42fb28",
        "colab": {
          "base_uri": "https://localhost:8080/"
        }
      },
      "outputs": [
        {
          "output_type": "stream",
          "name": "stdout",
          "text": [
            "\u001b[1m============================= test session starts ==============================\u001b[0m\n",
            "platform linux -- Python 3.10.6, pytest-7.2.2, pluggy-1.2.0 -- /usr/bin/python3\n",
            "cachedir: .pytest_cache\n",
            "benchmark: 4.0.0 (defaults: timer=time.perf_counter disable_gc=False min_rounds=5 min_time=0.000005 max_time=1.0 calibration_precision=10 warmup=False warmup_iterations=100000)\n",
            "rootdir: /content\n",
            "plugins: benchmark-4.0.0, anyio-3.7.1\n",
            "\u001b[1mcollecting ... \u001b[0m\u001b[1m\rcollected 2 items                                                              \u001b[0m\n",
            "\n",
            "pytest_parametrize.py::test_text_contain_word[There is a duck in this text-True] \u001b[32mPASSED\u001b[0m\u001b[32m [ 50%]\u001b[0m\n",
            "pytest_parametrize.py::test_text_contain_word[There is nothing here-False] \u001b[32mPASSED\u001b[0m\u001b[32m [100%]\u001b[0m\n",
            "\n",
            "\u001b[32m============================== \u001b[32m\u001b[1m2 passed\u001b[0m\u001b[32m in 0.02s\u001b[0m\u001b[32m ===============================\u001b[0m\n"
          ]
        }
      ],
      "source": [
        "!pytest -v pytest_parametrize.py"
      ]
    },
    {
      "cell_type": "markdown",
      "id": "488b4f51",
      "metadata": {
        "id": "488b4f51"
      },
      "source": [
        "Sweet! 2 tests passed when running pytest."
      ]
    },
    {
      "cell_type": "markdown",
      "id": "4a725d73",
      "metadata": {
        "id": "4a725d73"
      },
      "source": [
        "[Link to my article about pytest](https://towardsdatascience.com/pytest-for-data-scientists-2990319e55e6?sk=2d3a81903b154db0c7ca832b9f29fee8).\n",
        "\n"
      ]
    },
    {
      "cell_type": "markdown",
      "id": "77b236f2",
      "metadata": {
        "id": "77b236f2"
      },
      "source": [
        "### pytest parametrize twice: Test All Possible Combinations of Two Sets of Parameters"
      ]
    },
    {
      "cell_type": "code",
      "execution_count": null,
      "id": "56ef317c",
      "metadata": {
        "tags": [
          "hide-cell"
        ],
        "id": "56ef317c",
        "outputId": "64f901d9-ff6d-4bba-a0c1-9d7ba63d4dd1",
        "colab": {
          "base_uri": "https://localhost:8080/"
        }
      },
      "outputs": [
        {
          "output_type": "stream",
          "name": "stdout",
          "text": [
            "Requirement already satisfied: pytest in /usr/local/lib/python3.10/dist-packages (7.2.2)\n",
            "Requirement already satisfied: attrs>=19.2.0 in /usr/local/lib/python3.10/dist-packages (from pytest) (23.1.0)\n",
            "Requirement already satisfied: iniconfig in /usr/local/lib/python3.10/dist-packages (from pytest) (2.0.0)\n",
            "Requirement already satisfied: packaging in /usr/local/lib/python3.10/dist-packages (from pytest) (23.1)\n",
            "Requirement already satisfied: pluggy<2.0,>=0.12 in /usr/local/lib/python3.10/dist-packages (from pytest) (1.2.0)\n",
            "Requirement already satisfied: exceptiongroup>=1.0.0rc8 in /usr/local/lib/python3.10/dist-packages (from pytest) (1.1.2)\n",
            "Requirement already satisfied: tomli>=1.0.0 in /usr/local/lib/python3.10/dist-packages (from pytest) (2.0.1)\n"
          ]
        }
      ],
      "source": [
        "!pip install pytest"
      ]
    },
    {
      "cell_type": "markdown",
      "id": "a0ccdbf9",
      "metadata": {
        "id": "a0ccdbf9"
      },
      "source": [
        "If you want to test the combinations of two sets of parameters, writing all possible combinations can be time-consuming and is difficult to read.\n",
        "\n",
        "```python\n",
        "import pytest\n",
        "\n",
        "def average(n1, n2):\n",
        "    return (n1 + n2) / 2\n",
        "\n",
        "def perc_difference(n1, n2):\n",
        "    return (n2 - n1)/n1 * 100\n",
        "\n",
        "# Test the combinations of operations and inputs\n",
        "@pytest.mark.parametrize(\"operation, n1, n2\", [(average, 1, 2), (average, 2, 3), (perc_difference, 1, 2), (perc_difference, 2, 3)])\n",
        "def test_is_float(operation, n1, n2):\n",
        "    assert isinstance(operation(n1, n2), float)\n",
        "```"
      ]
    },
    {
      "cell_type": "markdown",
      "id": "5c28b30c",
      "metadata": {
        "id": "5c28b30c"
      },
      "source": [
        "You can save your time by using `pytest.mark.parametrize` twice instead."
      ]
    },
    {
      "cell_type": "code",
      "execution_count": null,
      "id": "fd6fca89",
      "metadata": {
        "id": "fd6fca89",
        "outputId": "560741d2-3718-4865-cbd3-5418a5378a8a",
        "colab": {
          "base_uri": "https://localhost:8080/"
        }
      },
      "outputs": [
        {
          "output_type": "stream",
          "name": "stdout",
          "text": [
            "Writing pytest_combination.py\n"
          ]
        }
      ],
      "source": [
        "%%writefile pytest_combination.py\n",
        "import pytest\n",
        "\n",
        "def average(n1, n2):\n",
        "    return (n1 + n2) / 2\n",
        "\n",
        "def perc_difference(n1, n2):\n",
        "    return (n2 - n1)/n1 * 100\n",
        "\n",
        "# Test the combinations of operations and inputs\n",
        "@pytest.mark.parametrize(\"operation\", [average, perc_difference])\n",
        "@pytest.mark.parametrize(\"n1, n2\", [(1, 2), (2, 3)])\n",
        "def test_is_float(operation, n1, n2):\n",
        "    assert isinstance(operation(n1, n2), float)"
      ]
    },
    {
      "cell_type": "markdown",
      "id": "2c881522",
      "metadata": {
        "id": "2c881522"
      },
      "source": [
        "On your terminal, run:\n",
        "```bash\n",
        "$ pytest -v pytest_combination.py\n",
        "```"
      ]
    },
    {
      "cell_type": "code",
      "execution_count": null,
      "id": "7c94aef6",
      "metadata": {
        "ExecuteTime": {
          "end_time": "2022-02-23T15:06:56.991305Z",
          "start_time": "2022-02-23T15:06:56.158431Z"
        },
        "tags": [
          "remove-input"
        ],
        "id": "7c94aef6",
        "outputId": "8ffec5ba-4cea-413a-9d3f-96546b269b79",
        "colab": {
          "base_uri": "https://localhost:8080/"
        }
      },
      "outputs": [
        {
          "output_type": "stream",
          "name": "stdout",
          "text": [
            "\u001b[1m============================= test session starts ==============================\u001b[0m\n",
            "platform linux -- Python 3.10.6, pytest-7.2.2, pluggy-1.2.0 -- /usr/bin/python3\n",
            "cachedir: .pytest_cache\n",
            "benchmark: 4.0.0 (defaults: timer=time.perf_counter disable_gc=False min_rounds=5 min_time=0.000005 max_time=1.0 calibration_precision=10 warmup=False warmup_iterations=100000)\n",
            "rootdir: /content\n",
            "plugins: benchmark-4.0.0, anyio-3.7.1\n",
            "\u001b[1mcollecting ... \u001b[0m\u001b[1m\rcollected 4 items                                                              \u001b[0m\n",
            "\n",
            "pytest_combination.py::test_is_float[1-2-average] \u001b[32mPASSED\u001b[0m\u001b[32m                 [ 25%]\u001b[0m\n",
            "pytest_combination.py::test_is_float[1-2-perc_difference] \u001b[32mPASSED\u001b[0m\u001b[32m         [ 50%]\u001b[0m\n",
            "pytest_combination.py::test_is_float[2-3-average] \u001b[32mPASSED\u001b[0m\u001b[32m                 [ 75%]\u001b[0m\n",
            "pytest_combination.py::test_is_float[2-3-perc_difference] \u001b[32mPASSED\u001b[0m\u001b[32m         [100%]\u001b[0m\n",
            "\n",
            "\u001b[32m============================== \u001b[32m\u001b[1m4 passed\u001b[0m\u001b[32m in 0.03s\u001b[0m\u001b[32m ===============================\u001b[0m\n"
          ]
        }
      ],
      "source": [
        "!pytest -v pytest_combination.py"
      ]
    },
    {
      "cell_type": "markdown",
      "id": "2041b7e5",
      "metadata": {
        "id": "2041b7e5"
      },
      "source": [
        "From the output above, we can see that all possible combinations of the given operations and inputs are tested."
      ]
    },
    {
      "cell_type": "markdown",
      "id": "0378ff50",
      "metadata": {
        "id": "0378ff50"
      },
      "source": [
        "### Assign IDs to Test Cases"
      ]
    },
    {
      "cell_type": "markdown",
      "id": "059a737d",
      "metadata": {
        "id": "059a737d"
      },
      "source": [
        "When using pytest parametrize, it can be difficult to understand the role of each test case."
      ]
    },
    {
      "cell_type": "code",
      "execution_count": null,
      "id": "99fdb0cf",
      "metadata": {
        "id": "99fdb0cf",
        "outputId": "e67f4b41-ccef-4a26-d5a1-14cdec1aa071",
        "colab": {
          "base_uri": "https://localhost:8080/"
        }
      },
      "outputs": [
        {
          "output_type": "stream",
          "name": "stdout",
          "text": [
            "Writing pytest_without_ids.py\n"
          ]
        }
      ],
      "source": [
        "%%writefile pytest_without_ids.py\n",
        "from pytest import mark\n",
        "\n",
        "\n",
        "def average(n1, n2):\n",
        "    return (n1 + n2) / 2\n",
        "\n",
        "@mark.parametrize(\n",
        "    \"n1, n2\",\n",
        "    [(-1, -2), (2, 3), (0, 0)],\n",
        ")\n",
        "def test_is_float(n1, n2):\n",
        "    assert isinstance(average(n1, n2), float)"
      ]
    },
    {
      "cell_type": "markdown",
      "id": "6ba8fa45",
      "metadata": {
        "id": "6ba8fa45"
      },
      "source": [
        "```bash\n",
        "$ pytest -v pytest_without_ids.py\n",
        "```"
      ]
    },
    {
      "cell_type": "code",
      "execution_count": null,
      "id": "1502853a",
      "metadata": {
        "ExecuteTime": {
          "end_time": "2022-03-16T13:34:28.749494Z",
          "start_time": "2022-03-16T13:34:27.844208Z"
        },
        "tags": [
          "remove-input"
        ],
        "id": "1502853a",
        "outputId": "9552c019-d65b-4cc7-ab6b-864c299816d8",
        "colab": {
          "base_uri": "https://localhost:8080/"
        }
      },
      "outputs": [
        {
          "output_type": "stream",
          "name": "stdout",
          "text": [
            "\u001b[1m============================= test session starts ==============================\u001b[0m\n",
            "platform linux -- Python 3.10.6, pytest-7.2.2, pluggy-1.2.0 -- /usr/bin/python3\n",
            "cachedir: .pytest_cache\n",
            "benchmark: 4.0.0 (defaults: timer=time.perf_counter disable_gc=False min_rounds=5 min_time=0.000005 max_time=1.0 calibration_precision=10 warmup=False warmup_iterations=100000)\n",
            "rootdir: /content\n",
            "plugins: benchmark-4.0.0, anyio-3.7.1\n",
            "\u001b[1mcollecting ... \u001b[0m\u001b[1m\rcollected 3 items                                                              \u001b[0m\n",
            "\n",
            "pytest_without_ids.py::test_is_float[-1--2] \u001b[32mPASSED\u001b[0m\u001b[32m                       [ 33%]\u001b[0m\n",
            "pytest_without_ids.py::test_is_float[2-3] \u001b[32mPASSED\u001b[0m\u001b[32m                         [ 66%]\u001b[0m\n",
            "pytest_without_ids.py::test_is_float[0-0] \u001b[32mPASSED\u001b[0m\u001b[32m                         [100%]\u001b[0m\n",
            "\n",
            "\u001b[32m============================== \u001b[32m\u001b[1m3 passed\u001b[0m\u001b[32m in 0.02s\u001b[0m\u001b[32m ===============================\u001b[0m\n"
          ]
        }
      ],
      "source": [
        "!pytest -v pytest_without_ids.py"
      ]
    },
    {
      "cell_type": "markdown",
      "id": "454d748a",
      "metadata": {
        "id": "454d748a"
      },
      "source": [
        "You can add `ids` to pytest parametrize to assign a name to each test case."
      ]
    },
    {
      "cell_type": "code",
      "execution_count": null,
      "id": "81e79dca",
      "metadata": {
        "id": "81e79dca",
        "outputId": "41f52442-f0bd-4a82-e8b5-86b7a1369038",
        "colab": {
          "base_uri": "https://localhost:8080/"
        }
      },
      "outputs": [
        {
          "output_type": "stream",
          "name": "stdout",
          "text": [
            "Writing pytest_ids.py\n"
          ]
        }
      ],
      "source": [
        "%%writefile pytest_ids.py\n",
        "from pytest import mark\n",
        "\n",
        "def average(n1, n2):\n",
        "    return (n1 + n2) / 2\n",
        "\n",
        "@mark.parametrize(\n",
        "    \"n1, n2\",\n",
        "    [(-1, -2), (2, 3), (0, 0)],\n",
        "    ids=[\"neg and neg\", \"pos and pos\", \"zero and zero\"],\n",
        ")\n",
        "def test_is_float(n1, n2):\n",
        "    assert isinstance(average(n1, n2), float)"
      ]
    },
    {
      "cell_type": "markdown",
      "id": "7872c3a6",
      "metadata": {
        "id": "7872c3a6"
      },
      "source": [
        "```bash\n",
        "$ pytest -v pytest_ids.py\n",
        "```"
      ]
    },
    {
      "cell_type": "code",
      "execution_count": null,
      "id": "ea2c76e2",
      "metadata": {
        "tags": [
          "remove-input"
        ],
        "id": "ea2c76e2",
        "outputId": "dd37b88f-69cc-4476-919b-69496306f374",
        "colab": {
          "base_uri": "https://localhost:8080/"
        }
      },
      "outputs": [
        {
          "output_type": "stream",
          "name": "stdout",
          "text": [
            "\u001b[1m============================= test session starts ==============================\u001b[0m\n",
            "platform linux -- Python 3.10.6, pytest-7.2.2, pluggy-1.2.0 -- /usr/bin/python3\n",
            "cachedir: .pytest_cache\n",
            "benchmark: 4.0.0 (defaults: timer=time.perf_counter disable_gc=False min_rounds=5 min_time=0.000005 max_time=1.0 calibration_precision=10 warmup=False warmup_iterations=100000)\n",
            "rootdir: /content\n",
            "plugins: benchmark-4.0.0, anyio-3.7.1\n",
            "\u001b[1mcollecting ... \u001b[0m\u001b[1m\rcollected 3 items                                                              \u001b[0m\n",
            "\n",
            "pytest_ids.py::test_is_float[neg and neg] \u001b[32mPASSED\u001b[0m\u001b[32m                         [ 33%]\u001b[0m\n",
            "pytest_ids.py::test_is_float[pos and pos] \u001b[32mPASSED\u001b[0m\u001b[32m                         [ 66%]\u001b[0m\n",
            "pytest_ids.py::test_is_float[zero and zero] \u001b[32mPASSED\u001b[0m\u001b[32m                       [100%]\u001b[0m\n",
            "\n",
            "\u001b[32m============================== \u001b[32m\u001b[1m3 passed\u001b[0m\u001b[32m in 0.02s\u001b[0m\u001b[32m ===============================\u001b[0m\n"
          ]
        }
      ],
      "source": [
        "!pytest -v pytest_ids.py"
      ]
    },
    {
      "cell_type": "markdown",
      "id": "7392f742",
      "metadata": {
        "id": "7392f742"
      },
      "source": [
        "We can see that instead of `[-1--2]`, the first test case is shown as `neg and neg`. This makes it easier for others to understand the roles of your test cases.  "
      ]
    },
    {
      "cell_type": "markdown",
      "id": "72543d9f",
      "metadata": {
        "id": "72543d9f"
      },
      "source": [
        "If you want to specify the test IDs together with the actual data, instead of listing them separately, use `pytest.param`."
      ]
    },
    {
      "cell_type": "code",
      "execution_count": null,
      "id": "a3807afd",
      "metadata": {
        "id": "a3807afd",
        "outputId": "100b1581-9bc7-4a3f-a692-df2837409add",
        "colab": {
          "base_uri": "https://localhost:8080/"
        }
      },
      "outputs": [
        {
          "output_type": "stream",
          "name": "stdout",
          "text": [
            "Writing pytest_param.py\n"
          ]
        }
      ],
      "source": [
        "%%writefile pytest_param.py\n",
        "import pytest\n",
        "\n",
        "\n",
        "def average(n1, n2):\n",
        "    return (n1 + n2) / 2\n",
        "\n",
        "\n",
        "examples = [\n",
        "    pytest.param(-1, -2, id=\"neg-neg\"),\n",
        "    pytest.param(2, 3, id=\"pos-pos\"),\n",
        "    pytest.param(0, 0, id=\"0-0\"),\n",
        "]\n",
        "\n",
        "\n",
        "@pytest.mark.parametrize(\"n1, n2\", examples)\n",
        "def test_is_float(n1, n2):\n",
        "    assert isinstance(average(n1, n2), float)\n"
      ]
    },
    {
      "cell_type": "markdown",
      "id": "99380417",
      "metadata": {
        "id": "99380417"
      },
      "source": [
        "```bash\n",
        "$ pytest -v pytest_param.py\n",
        "```"
      ]
    },
    {
      "cell_type": "code",
      "execution_count": null,
      "id": "fcdab4a6",
      "metadata": {
        "ExecuteTime": {
          "end_time": "2022-09-16T13:54:09.767614Z",
          "start_time": "2022-09-16T13:54:09.119019Z"
        },
        "tags": [
          "hide-inpy"
        ],
        "id": "fcdab4a6",
        "outputId": "502879f2-7ee2-4344-c758-936e0645b384",
        "colab": {
          "base_uri": "https://localhost:8080/"
        }
      },
      "outputs": [
        {
          "output_type": "stream",
          "name": "stdout",
          "text": [
            "\u001b[1m============================= test session starts ==============================\u001b[0m\n",
            "platform linux -- Python 3.10.6, pytest-7.2.2, pluggy-1.2.0 -- /usr/bin/python3\n",
            "cachedir: .pytest_cache\n",
            "benchmark: 4.0.0 (defaults: timer=time.perf_counter disable_gc=False min_rounds=5 min_time=0.000005 max_time=1.0 calibration_precision=10 warmup=False warmup_iterations=100000)\n",
            "rootdir: /content\n",
            "plugins: benchmark-4.0.0, anyio-3.7.1\n",
            "\u001b[1mcollecting ... \u001b[0m\u001b[1m\rcollected 3 items                                                              \u001b[0m\n",
            "\n",
            "pytest_param.py::test_is_float[neg-neg] \u001b[32mPASSED\u001b[0m\u001b[32m                           [ 33%]\u001b[0m\n",
            "pytest_param.py::test_is_float[pos-pos] \u001b[32mPASSED\u001b[0m\u001b[32m                           [ 66%]\u001b[0m\n",
            "pytest_param.py::test_is_float[0-0] \u001b[32mPASSED\u001b[0m\u001b[32m                               [100%]\u001b[0m\n",
            "\n",
            "\u001b[32m============================== \u001b[32m\u001b[1m3 passed\u001b[0m\u001b[32m in 0.02s\u001b[0m\u001b[32m ===============================\u001b[0m\n"
          ]
        }
      ],
      "source": [
        "!pytest -v pytest_param.py"
      ]
    },
    {
      "cell_type": "markdown",
      "id": "cac57677",
      "metadata": {
        "id": "cac57677"
      },
      "source": [
        "### Pytest Fixtures: Use The Same Data for Different Tests"
      ]
    },
    {
      "cell_type": "code",
      "execution_count": null,
      "id": "236c745a",
      "metadata": {
        "tags": [
          "hide-cell"
        ],
        "id": "236c745a",
        "outputId": "da795b3f-111a-424a-a6ba-0409f8007240",
        "colab": {
          "base_uri": "https://localhost:8080/"
        }
      },
      "outputs": [
        {
          "output_type": "stream",
          "name": "stdout",
          "text": [
            "Requirement already satisfied: pytest in /usr/local/lib/python3.10/dist-packages (7.2.2)\n",
            "Requirement already satisfied: textblob in /usr/local/lib/python3.10/dist-packages (0.17.1)\n",
            "Requirement already satisfied: attrs>=19.2.0 in /usr/local/lib/python3.10/dist-packages (from pytest) (23.1.0)\n",
            "Requirement already satisfied: iniconfig in /usr/local/lib/python3.10/dist-packages (from pytest) (2.0.0)\n",
            "Requirement already satisfied: packaging in /usr/local/lib/python3.10/dist-packages (from pytest) (23.1)\n",
            "Requirement already satisfied: pluggy<2.0,>=0.12 in /usr/local/lib/python3.10/dist-packages (from pytest) (1.2.0)\n",
            "Requirement already satisfied: exceptiongroup>=1.0.0rc8 in /usr/local/lib/python3.10/dist-packages (from pytest) (1.1.2)\n",
            "Requirement already satisfied: tomli>=1.0.0 in /usr/local/lib/python3.10/dist-packages (from pytest) (2.0.1)\n",
            "Requirement already satisfied: nltk>=3.1 in /usr/local/lib/python3.10/dist-packages (from textblob) (3.8.1)\n",
            "Requirement already satisfied: click in /usr/local/lib/python3.10/dist-packages (from nltk>=3.1->textblob) (8.1.6)\n",
            "Requirement already satisfied: joblib in /usr/local/lib/python3.10/dist-packages (from nltk>=3.1->textblob) (1.3.1)\n",
            "Requirement already satisfied: regex>=2021.8.3 in /usr/local/lib/python3.10/dist-packages (from nltk>=3.1->textblob) (2022.10.31)\n",
            "Requirement already satisfied: tqdm in /usr/local/lib/python3.10/dist-packages (from nltk>=3.1->textblob) (4.65.0)\n"
          ]
        }
      ],
      "source": [
        "!pip install pytest textblob"
      ]
    },
    {
      "cell_type": "markdown",
      "id": "a5256a1b",
      "metadata": {
        "id": "a5256a1b"
      },
      "source": [
        "If you want to use the same data to test different functions, use pytest fixtures."
      ]
    },
    {
      "cell_type": "markdown",
      "id": "5ce9cb2d",
      "metadata": {
        "ExecuteTime": {
          "end_time": "2021-09-11T18:45:26.995394Z",
          "start_time": "2021-09-11T18:45:26.472717Z"
        },
        "id": "5ce9cb2d"
      },
      "source": [
        "To use pytest fixtures,  add the decorator `@pytest.fixture` to the function that creates the data you want to reuse."
      ]
    },
    {
      "cell_type": "code",
      "execution_count": null,
      "id": "f8472909",
      "metadata": {
        "id": "f8472909",
        "outputId": "c9ff4b37-6805-4d47-81af-92a01c45dec5",
        "colab": {
          "base_uri": "https://localhost:8080/"
        }
      },
      "outputs": [
        {
          "output_type": "stream",
          "name": "stdout",
          "text": [
            "Writing pytest_fixture.py\n"
          ]
        }
      ],
      "source": [
        "%%writefile pytest_fixture.py\n",
        "import pytest\n",
        "from textblob import TextBlob\n",
        "\n",
        "def extract_sentiment(text: str):\n",
        "    \"\"\"Extract sentimetn using textblob. Polarity is within range [-1, 1]\"\"\"\n",
        "\n",
        "    text = TextBlob(text)\n",
        "    return text.sentiment.polarity\n",
        "\n",
        "@pytest.fixture\n",
        "def example_data():\n",
        "    return 'Today I found a duck and I am happy'\n",
        "\n",
        "def test_extract_sentiment(example_data):\n",
        "    sentiment = extract_sentiment(example_data)\n",
        "    assert sentiment > 0"
      ]
    },
    {
      "cell_type": "markdown",
      "id": "29564978",
      "metadata": {
        "id": "29564978"
      },
      "source": [
        "On your terminal, type:\n",
        "```bash\n",
        "$ pytest pytest_fixture.py\n",
        "```\n",
        "Output:"
      ]
    },
    {
      "cell_type": "code",
      "execution_count": null,
      "id": "79658c9f",
      "metadata": {
        "ExecuteTime": {
          "end_time": "2021-09-11T18:45:46.386950Z",
          "start_time": "2021-09-11T18:45:45.299302Z"
        },
        "tags": [
          "remove-input"
        ],
        "id": "79658c9f",
        "outputId": "41dabc12-a76c-40eb-8194-87194e5f4ec4",
        "colab": {
          "base_uri": "https://localhost:8080/"
        }
      },
      "outputs": [
        {
          "output_type": "stream",
          "name": "stdout",
          "text": [
            "\u001b[1m============================= test session starts ==============================\u001b[0m\n",
            "platform linux -- Python 3.10.6, pytest-7.2.2, pluggy-1.2.0\n",
            "benchmark: 4.0.0 (defaults: timer=time.perf_counter disable_gc=False min_rounds=5 min_time=0.000005 max_time=1.0 calibration_precision=10 warmup=False warmup_iterations=100000)\n",
            "rootdir: /content\n",
            "plugins: benchmark-4.0.0, anyio-3.7.1\n",
            "\u001b[1mcollecting ... \u001b[0m"
          ]
        }
      ],
      "source": [
        "!pytest pytest_fixture.py"
      ]
    },
    {
      "cell_type": "markdown",
      "id": "636cfcc6",
      "metadata": {
        "id": "636cfcc6"
      },
      "source": [
        "### Execute a Fixture Only Once per Session"
      ]
    },
    {
      "cell_type": "markdown",
      "id": "83bcc41a",
      "metadata": {
        "id": "83bcc41a"
      },
      "source": [
        "By default, every time you use a pytest fixture in a test, a fixture will be executed."
      ]
    },
    {
      "cell_type": "markdown",
      "id": "f5ebe803",
      "metadata": {
        "id": "f5ebe803"
      },
      "source": [
        "```python\n",
        "# example.py\n",
        "import pytest\n",
        "\n",
        "@pytest.fixture\n",
        "def my_data():\n",
        "    print(\"Reading data...\")\n",
        "    return 1\n",
        "\n",
        "def test_division(my_data):\n",
        "    print(\"Test division...\")\n",
        "    assert my_data / 2 == 0.5\n",
        "\n",
        "def test_modulus(my_data):\n",
        "    print(\"Test modulus...\")\n",
        "    assert my_data % 2 == 1\n",
        "```\n",
        "From the output, we can see that the fixture `my_data` is executed twice.\n",
        "\n",
        "```bash\n",
        "$ pytest example.py -s\n",
        "Reading data...\n",
        "Test division...\n",
        "Reading data...\n",
        "Test modulus...\n",
        "```"
      ]
    },
    {
      "cell_type": "markdown",
      "id": "7f7993ce",
      "metadata": {
        "id": "7f7993ce"
      },
      "source": [
        "If a fixture is expensive to execute, you can make the fixture be executed only once per session using `scope=session`."
      ]
    },
    {
      "cell_type": "code",
      "execution_count": null,
      "id": "53898a4f",
      "metadata": {
        "id": "53898a4f"
      },
      "outputs": [],
      "source": [
        "%%writefile pytest_scope.py\n",
        "import pytest\n",
        "\n",
        "@pytest.fixture(scope=\"session\")\n",
        "def my_data():\n",
        "    print(\"Reading data...\")\n",
        "    return 1\n",
        "\n",
        "def test_division(my_data):\n",
        "    print(\"Test division...\")\n",
        "    assert my_data / 2 == 0.5\n",
        "\n",
        "def test_modulus(my_data):\n",
        "    print(\"Test modulus...\")\n",
        "    assert my_data % 2 == 1"
      ]
    },
    {
      "cell_type": "markdown",
      "id": "2dbf247e",
      "metadata": {
        "id": "2dbf247e"
      },
      "source": [
        "From the output, we can see that the fixture `my_data` is executed only once.\n",
        "```bash\n",
        "$ pytest pytest_scope.py -s\n",
        "Reading data...\n",
        "Test division...\n",
        "Test modulus...\n",
        "```"
      ]
    },
    {
      "cell_type": "markdown",
      "id": "7ff3fcd1",
      "metadata": {
        "id": "7ff3fcd1"
      },
      "source": [
        "### Pytest skipif: Skip a Test When a Condition is Not Met"
      ]
    },
    {
      "cell_type": "markdown",
      "id": "1338ccba",
      "metadata": {
        "id": "1338ccba"
      },
      "source": [
        "If you want to skip a test when a condition is not met, use pytest `skipif`. For example, in the code below, I use `skipif` to skip a test if the python version is less than 3.9."
      ]
    },
    {
      "cell_type": "code",
      "execution_count": null,
      "id": "afd648a6",
      "metadata": {
        "id": "afd648a6"
      },
      "outputs": [],
      "source": [
        "%%writefile pytest_skip.py\n",
        "import sys\n",
        "import pytest\n",
        "\n",
        "def add_two(num: int):\n",
        "    return num + 2\n",
        "\n",
        "@pytest.mark.skipif(sys.version_info < (3, 9), reason=\"Eequires Python 3.9 or higher\")\n",
        "def test_add_two():\n",
        "    assert add_two(3) == 5"
      ]
    },
    {
      "cell_type": "markdown",
      "id": "ecb40560",
      "metadata": {
        "id": "ecb40560"
      },
      "source": [
        "On your terminal, type:\n",
        "```bash\n",
        "$ pytest pytest_skip.py -v\n",
        "```\n",
        "\n",
        "Output:"
      ]
    },
    {
      "cell_type": "code",
      "execution_count": null,
      "id": "ec3df6c2",
      "metadata": {
        "ExecuteTime": {
          "end_time": "2022-05-05T14:38:54.377174Z",
          "start_time": "2022-05-05T14:38:53.709196Z"
        },
        "tags": [
          "remove-input"
        ],
        "id": "ec3df6c2"
      },
      "outputs": [],
      "source": [
        "!pytest pytest_skip.py -v"
      ]
    },
    {
      "cell_type": "markdown",
      "id": "8576a9a4",
      "metadata": {
        "id": "8576a9a4"
      },
      "source": [
        "### Pytest xfail: Mark a Test as Expected to Fail"
      ]
    },
    {
      "cell_type": "markdown",
      "id": "a6d1f6b8",
      "metadata": {
        "id": "a6d1f6b8"
      },
      "source": [
        "If you expect a test to fail, use pytest `xfail` marker. This will prevent pytest from marking a test as failed when there is an exception.\n",
        "\n",
        "To be more specific about what exception you expect to see, use the `raises` argument."
      ]
    },
    {
      "cell_type": "code",
      "execution_count": null,
      "id": "e22d4235",
      "metadata": {
        "id": "e22d4235"
      },
      "outputs": [],
      "source": [
        "%%writefile pytest_mark_xfail.py\n",
        "import pytest\n",
        "\n",
        "def divide_two_nums(num1, num2):\n",
        "    return num1 / num2\n",
        "\n",
        "@pytest.mark.xfail(raises=ZeroDivisionError)\n",
        "def test_divide_by_zero():\n",
        "    res = divide_two_nums(2, 0)"
      ]
    },
    {
      "cell_type": "markdown",
      "id": "560df152",
      "metadata": {
        "id": "560df152"
      },
      "source": [
        "On your terminal, type:\n",
        "\n",
        "```bash\n",
        "$ pytest pytest_mark_xfail.py\n",
        "```\n",
        "\n",
        "We can see that no test failed."
      ]
    },
    {
      "cell_type": "code",
      "execution_count": null,
      "id": "99bdf5d8",
      "metadata": {
        "tags": [
          "remove-input"
        ],
        "id": "99bdf5d8"
      },
      "outputs": [],
      "source": [
        "!pytest pytest_mark_xfail.py"
      ]
    },
    {
      "cell_type": "markdown",
      "id": "75e01c50",
      "metadata": {
        "id": "75e01c50"
      },
      "source": [
        "### Verify Logging Error with pytest"
      ]
    },
    {
      "cell_type": "markdown",
      "id": "3ca94129",
      "metadata": {
        "id": "3ca94129"
      },
      "source": [
        "To ensure that your application logs an error under a specific condition, use the built-in fixture called `caplog` in pytest.\n",
        "\n",
        "This fixture allows you to capture log messages generated during the execution of your test."
      ]
    },
    {
      "cell_type": "code",
      "execution_count": null,
      "id": "b4e07feb",
      "metadata": {
        "id": "b4e07feb"
      },
      "outputs": [],
      "source": [
        "%%writefile test_logging.py\n",
        "from logging import getLogger\n",
        "\n",
        "logger = getLogger(__name__)\n",
        "\n",
        "def divide(num1: float, num2: float) -> float:\n",
        "    if num2 == 0:\n",
        "        logger.error(f\"Can't divide {num1} by 0\")\n",
        "    else:\n",
        "        logger.info(f\"Divide {num1} by {num2}\")\n",
        "        return num1 / num2\n",
        "\n",
        "def test_divide_by_0(caplog):\n",
        "    divide(1, 0)\n",
        "    assert \"Can't divide 1 by 0\" in caplog.text"
      ]
    },
    {
      "cell_type": "markdown",
      "id": "8a1d1429",
      "metadata": {
        "id": "8a1d1429"
      },
      "source": [
        "```bash\n",
        "$ pytest test_logging.py\n",
        "```"
      ]
    },
    {
      "cell_type": "code",
      "execution_count": null,
      "id": "fae6cc17",
      "metadata": {
        "tags": [
          "remove-input"
        ],
        "id": "fae6cc17"
      },
      "outputs": [],
      "source": [
        "!pytest test_logging.py"
      ]
    },
    {
      "cell_type": "markdown",
      "id": "e3bb08f7",
      "metadata": {
        "id": "e3bb08f7"
      },
      "source": [
        "### Pytest repeat\n"
      ]
    },
    {
      "cell_type": "code",
      "execution_count": null,
      "id": "8eb8f66f",
      "metadata": {
        "tags": [
          "hide-cell"
        ],
        "id": "8eb8f66f"
      },
      "outputs": [],
      "source": [
        "!pip install pytest-repeat"
      ]
    },
    {
      "cell_type": "markdown",
      "id": "aa2ad279",
      "metadata": {
        "id": "aa2ad279"
      },
      "source": [
        "It is a good practice to test your functions to make sure they work as expected, but sometimes you need to test 100 times until you found the rare cases when the test fails. That is when pytest-repeat comes in handy.\n",
        "\n",
        "To use pytest-repeat, add the decorator `@pytest.mark.repeat(N)` to the test function you want to repeat `N` times"
      ]
    },
    {
      "cell_type": "code",
      "execution_count": null,
      "id": "74a081ce",
      "metadata": {
        "id": "74a081ce"
      },
      "outputs": [],
      "source": [
        "%%writfile pytest_repeat_example.py\n",
        "import pytest\n",
        "import random\n",
        "\n",
        "def generate_numbers():\n",
        "    return random.randint(1, 100)\n",
        "\n",
        "@pytest.mark.repeat(100)\n",
        "def test_generate_numbers():\n",
        "    assert generate_numbers() > 1 and generate_numbers() < 100"
      ]
    },
    {
      "cell_type": "markdown",
      "id": "518854b9",
      "metadata": {
        "id": "518854b9"
      },
      "source": [
        "On your terminal, type:\n",
        "```bash\n",
        "$ pytest pytest_repeat_example.py\n",
        "```\n",
        "We can see that 100 experiments are executed and passed:"
      ]
    },
    {
      "cell_type": "code",
      "execution_count": null,
      "id": "7291ca8a",
      "metadata": {
        "ExecuteTime": {
          "end_time": "2021-09-11T18:51:02.831644Z",
          "start_time": "2021-09-11T18:51:02.331407Z"
        },
        "tags": [
          "remove-input"
        ],
        "id": "7291ca8a"
      },
      "outputs": [],
      "source": [
        "!pytest pytest_repeat_example.py"
      ]
    },
    {
      "cell_type": "markdown",
      "id": "bbb66973",
      "metadata": {
        "id": "bbb66973"
      },
      "source": [
        "[Link to pytest-repeat](https://github.com/pytest-dev/pytest-repeat)"
      ]
    },
    {
      "cell_type": "markdown",
      "id": "df0eb505",
      "metadata": {
        "id": "df0eb505"
      },
      "source": [
        "### pytest-sugar: Show the Failures and Errors Instantly With a Progress Bar"
      ]
    },
    {
      "cell_type": "code",
      "execution_count": null,
      "id": "c1c47f15",
      "metadata": {
        "tags": [
          "hide-cell"
        ],
        "id": "c1c47f15"
      },
      "outputs": [],
      "source": [
        "!pip install pytest-sugar"
      ]
    },
    {
      "cell_type": "markdown",
      "id": "933a0f98",
      "metadata": {
        "id": "933a0f98"
      },
      "source": [
        "It can be frustrating to wait for a lot of tests to run before knowing the status of the tests. If you want to see the failures and errors instantly with a progress bar, use pytest-sugar.\n",
        "\n",
        "pytest-sugar is a plugin for pytest. To see how pytest-sugar works, assume we have several test files in the `pytest_sugar_example` directory."
      ]
    },
    {
      "cell_type": "code",
      "execution_count": null,
      "id": "bb5b6964",
      "metadata": {
        "id": "bb5b6964"
      },
      "outputs": [],
      "source": [
        "%ls pytest_sugar_example"
      ]
    },
    {
      "cell_type": "markdown",
      "id": "d38ba696",
      "metadata": {
        "id": "d38ba696"
      },
      "source": [
        "The code below shows how the outputs will look like when running pytest."
      ]
    },
    {
      "cell_type": "markdown",
      "id": "51987496",
      "metadata": {
        "id": "51987496"
      },
      "source": [
        "```bash\n",
        "$ pytest pytest_sugar_example\n",
        "```"
      ]
    },
    {
      "cell_type": "code",
      "execution_count": null,
      "id": "a8669e10",
      "metadata": {
        "ExecuteTime": {
          "end_time": "2021-11-29T13:59:12.920920Z",
          "start_time": "2021-11-29T13:59:09.573556Z"
        },
        "tags": [
          "remove-input"
        ],
        "id": "a8669e10"
      },
      "outputs": [],
      "source": [
        "!pytest pytest_sugar_example"
      ]
    },
    {
      "cell_type": "markdown",
      "id": "768bb279",
      "metadata": {
        "id": "768bb279"
      },
      "source": [
        "[Link to pytest-sugar](https://github.com/Teemu/pytest-sugar)."
      ]
    },
    {
      "cell_type": "markdown",
      "id": "a6382f46",
      "metadata": {
        "id": "a6382f46"
      },
      "source": [
        "### pytest-steps: Share Data Between Tests"
      ]
    },
    {
      "cell_type": "markdown",
      "id": "5ca87dbb",
      "metadata": {
        "id": "5ca87dbb"
      },
      "source": [
        "Have you ever wanted to use the result of one test for another test? That is when pytest_steps comes in handy."
      ]
    },
    {
      "cell_type": "markdown",
      "id": "4810c8b5",
      "metadata": {
        "id": "4810c8b5"
      },
      "source": [
        "![](https://github.com/khuyentran1401/Efficient_Python_tricks_and_tools_for_data_scientists/blob/master/img/pytest_steps.png?raw=1)"
      ]
    },
    {
      "cell_type": "markdown",
      "id": "45a25187",
      "metadata": {
        "id": "45a25187"
      },
      "source": [
        "In the code below, I use the result of `sum_test` as the input of `average_2_nums`. The argument `steps_data` allows me to share the data between 2 tests."
      ]
    },
    {
      "cell_type": "code",
      "execution_count": null,
      "id": "9eafdc51",
      "metadata": {
        "id": "9eafdc51"
      },
      "outputs": [],
      "source": [
        "%%writefile test_steps.py\n",
        "from pytest_steps import test_steps\n",
        "\n",
        "\n",
        "def sum(n1, n2):\n",
        "    return n1 + n2\n",
        "\n",
        "\n",
        "def average_2_nums(sum):\n",
        "    return sum / 2\n",
        "\n",
        "\n",
        "def sum_test(steps_data):\n",
        "    res = sum(1, 3)\n",
        "    assert res == 4\n",
        "    steps_data.res = res\n",
        "\n",
        "\n",
        "def perc_difference_test(steps_data):\n",
        "    avg = average_2_nums(steps_data.res)\n",
        "    assert avg == 2\n",
        "\n",
        "\n",
        "@test_steps(sum_test, perc_difference_test)\n",
        "def test_calc_suite(test_step, steps_data):\n",
        "    if test_step == 'sum_test':\n",
        "        sum_test(steps_data)\n",
        "    elif test_step == 'perc_difference_test':\n",
        "        perc_difference_test(steps_data)"
      ]
    },
    {
      "cell_type": "markdown",
      "id": "8218cfd3",
      "metadata": {
        "id": "8218cfd3"
      },
      "source": [
        "```bash\n",
        "$ pytest test_steps.py\n",
        "```"
      ]
    },
    {
      "cell_type": "code",
      "execution_count": null,
      "id": "b123df70",
      "metadata": {
        "ExecuteTime": {
          "end_time": "2022-04-25T14:02:08.595254Z",
          "start_time": "2022-04-25T14:02:07.505819Z"
        },
        "tags": [
          "remove-input"
        ],
        "id": "b123df70"
      },
      "outputs": [],
      "source": [
        "!pytest test_steps.py"
      ]
    },
    {
      "cell_type": "markdown",
      "id": "fbc7aa74",
      "metadata": {
        "id": "fbc7aa74"
      },
      "source": [
        "[Link to pytest_steps](https://smarie.github.io/python-pytest-steps/)."
      ]
    },
    {
      "cell_type": "markdown",
      "id": "c69f8f70",
      "metadata": {
        "id": "c69f8f70"
      },
      "source": [
        "### pytest-picked: Run the Tests Related to the Unstaged Files in Git"
      ]
    },
    {
      "cell_type": "markdown",
      "id": "a896d47c",
      "metadata": {
        "id": "a896d47c"
      },
      "source": [
        "It can be time-consuming to run all tests in your project. Wouldn't it be nice if you can run only the tests related to the unstaged files in Git? That is when pytest-picked comes in handy.\n",
        "\n",
        "In the code below, only tests in the file `test_picked.py` are executed because it is an unstaged file."
      ]
    },
    {
      "cell_type": "code",
      "execution_count": null,
      "id": "b29b954a",
      "metadata": {
        "id": "b29b954a"
      },
      "outputs": [],
      "source": [
        "%%writefile test_picked.py\n",
        "def plus_one(num: int):\n",
        "    return num + 1\n",
        "\n",
        "\n",
        "def test_plus_one():\n",
        "    assert plus_one(2) == 3"
      ]
    },
    {
      "cell_type": "markdown",
      "id": "9ffcd195",
      "metadata": {
        "id": "9ffcd195"
      },
      "source": [
        "```bash\n",
        "$ git status\n",
        "```"
      ]
    },
    {
      "cell_type": "code",
      "execution_count": null,
      "id": "31f73a62",
      "metadata": {
        "ExecuteTime": {
          "end_time": "2022-09-07T14:15:23.578936Z",
          "start_time": "2022-09-07T14:15:23.210279Z"
        },
        "tags": [
          "remove-input"
        ],
        "id": "31f73a62"
      },
      "outputs": [],
      "source": [
        "!git status"
      ]
    },
    {
      "cell_type": "markdown",
      "id": "2fd32a32",
      "metadata": {
        "id": "2fd32a32"
      },
      "source": [
        "```bash\n",
        "$ pytest --picked\n",
        "```"
      ]
    },
    {
      "cell_type": "code",
      "execution_count": null,
      "id": "d510bf3f",
      "metadata": {
        "ExecuteTime": {
          "end_time": "2022-09-07T14:15:35.485328Z",
          "start_time": "2022-09-07T14:15:34.923559Z"
        },
        "tags": [
          "remove-input"
        ],
        "id": "d510bf3f"
      },
      "outputs": [],
      "source": [
        "!pytest --picked"
      ]
    },
    {
      "cell_type": "markdown",
      "id": "4f4c86da",
      "metadata": {
        "id": "4f4c86da"
      },
      "source": [
        "[Link to pytest-picked](https://github.com/anapaulagomes/pytest-picked)."
      ]
    },
    {
      "cell_type": "markdown",
      "id": "9454dd3b",
      "metadata": {
        "id": "9454dd3b"
      },
      "source": [
        "### Efficient Testing of Python Class with setUp Method"
      ]
    },
    {
      "cell_type": "markdown",
      "id": "fd2ee585",
      "metadata": {
        "id": "fd2ee585"
      },
      "source": [
        "When testing a Python class, it can be repetitive and time-consuming to create multiple instances to test a large number of instance methods."
      ]
    },
    {
      "cell_type": "code",
      "execution_count": null,
      "id": "0dd541a9",
      "metadata": {
        "id": "0dd541a9"
      },
      "outputs": [],
      "source": [
        "%%writefile get_dog.py\n",
        "class Dog:\n",
        "    def __init__(self, name, age):\n",
        "        self.name = name\n",
        "        self.age = age\n",
        "\n",
        "    def walk(self):\n",
        "        return f\"{self.name} is walking\"\n",
        "\n",
        "    def bark(self):\n",
        "        return f\"{self.name} is barking\""
      ]
    },
    {
      "cell_type": "code",
      "execution_count": null,
      "id": "71a81d64",
      "metadata": {
        "id": "71a81d64"
      },
      "outputs": [],
      "source": [
        "%%writefile test_get_dog.py\n",
        "import unittest\n",
        "from get_dog import Dog\n",
        "\n",
        "class TestDog(unittest.TestCase):\n",
        "    def test_walk(self):\n",
        "        dog = Dog(\"Max\", 3)\n",
        "        dog.walk() == \"Max is walking\"\n",
        "\n",
        "    def test_bark(self):\n",
        "        dog = Dog(\"Max\", 3)\n",
        "        dog.bark() == \"Max is barking\""
      ]
    },
    {
      "cell_type": "markdown",
      "id": "b1c7f560",
      "metadata": {
        "id": "b1c7f560"
      },
      "source": [
        "A better approach is to use the `setUp` method to instantiate a class object before running each test."
      ]
    },
    {
      "cell_type": "code",
      "execution_count": null,
      "id": "283cfcd3",
      "metadata": {
        "id": "283cfcd3"
      },
      "outputs": [],
      "source": [
        "%%writefile test_get_dog.py\n",
        "import unittest\n",
        "from get_dog import Dog\n",
        "\n",
        "class TestDog(unittest.TestCase):\n",
        "    def setUp(self):\n",
        "        self.dog = Dog(\"Max\", 3)\n",
        "\n",
        "    def test_walk(self):\n",
        "        self.dog.walk() == \"Max is walking\"\n",
        "\n",
        "    def test_bark(self):\n",
        "        self.dog.bark() == \"Max is barking\""
      ]
    },
    {
      "cell_type": "markdown",
      "id": "915e9960",
      "metadata": {
        "id": "915e9960"
      },
      "source": [
        "### FreezeGun: Freeze Dynamic Time in Unit Testing"
      ]
    },
    {
      "cell_type": "code",
      "execution_count": null,
      "id": "4069bd32",
      "metadata": {
        "tags": [
          "hide-cell"
        ],
        "id": "4069bd32"
      },
      "outputs": [],
      "source": [
        "!pip install freezegun"
      ]
    },
    {
      "cell_type": "markdown",
      "id": "85ef39bd",
      "metadata": {
        "id": "85ef39bd"
      },
      "source": [
        "Unit tests require static input, but time is dynamic and constantly changing. With FreezeGun, you can freeze time to a specific point, ensuring accurate verification of the tested features."
      ]
    },
    {
      "cell_type": "code",
      "execution_count": null,
      "id": "62213cd9",
      "metadata": {
        "id": "62213cd9"
      },
      "outputs": [],
      "source": [
        "%%writefile test_freezegun.py\n",
        "from freezegun import freeze_time\n",
        "import datetime\n",
        "\n",
        "def get_day_of_week():\n",
        "    return datetime.datetime.now().weekday()\n",
        "\n",
        "@freeze_time(\"2023-06-13\")\n",
        "def test_get_day_of_week():\n",
        "    assert get_day_of_week() == 1\n"
      ]
    },
    {
      "cell_type": "markdown",
      "id": "67d161da",
      "metadata": {
        "id": "67d161da"
      },
      "source": [
        "```bash\n",
        "$ pytest test_freezegun.py\n",
        "```"
      ]
    },
    {
      "cell_type": "code",
      "execution_count": null,
      "id": "376870d5",
      "metadata": {
        "tags": [
          "remove-input"
        ],
        "id": "376870d5"
      },
      "outputs": [],
      "source": [
        "!pytest test_freezegun.py"
      ]
    },
    {
      "cell_type": "markdown",
      "id": "0c5f4d11",
      "metadata": {
        "id": "0c5f4d11"
      },
      "source": [
        "[Link to FreezeGun](https://github.com/spulec/freezegun)."
      ]
    },
    {
      "cell_type": "markdown",
      "id": "b810c274",
      "metadata": {
        "id": "b810c274"
      },
      "source": [
        "### Simulate External Services in Testing with Mock Objects"
      ]
    },
    {
      "cell_type": "markdown",
      "id": "be2fecae",
      "metadata": {
        "id": "be2fecae"
      },
      "source": [
        "Testing code that relies on external services, like a database, can be difficult since the behaviors of these services can change.\n",
        "\n",
        "A mock object can control the behavior of a real object in a testing environment by simulating responses from external services.\n",
        "\n",
        "The following code uses a mock object to test the `get_data` function's behavior when calling an API that may either succeed or fail."
      ]
    },
    {
      "cell_type": "markdown",
      "id": "aa19ebb6",
      "metadata": {
        "id": "aa19ebb6"
      },
      "source": [
        "```python\n",
        "from unittest.mock import patch\n",
        "import requests\n",
        "from requests.exceptions import ConnectionError\n",
        "\n",
        "\n",
        "def get_data():\n",
        "    \"\"\"Make an API call to Postgres\"\"\"\n",
        "    try:\n",
        "        response = requests.get(\"http://localhost:5432\")\n",
        "        return response.json()\n",
        "    except ConnectionError:\n",
        "        return None\n",
        "\n",
        "\n",
        "def test_get_data_fails():\n",
        "    \"\"\"Test the get_data function when the API call fails\"\"\"\n",
        "    # Mock the requests.get function\n",
        "    with patch(\"requests.get\") as mock_get:\n",
        "        # Define what happens when the function is called\n",
        "        mock_get.side_effect = ConnectionError\n",
        "        assert get_data() is None\n",
        "\n",
        "\n",
        "def test_get_data_succeeds():\n",
        "    \"\"\"Test the get_data function when the API call succeeds\"\"\"\n",
        "    # Mock the requests.get function\n",
        "    with patch(\"requests.get\") as mock_get:\n",
        "        # Define the return value of the function\n",
        "        mock_get.return_value.json.return_value = {\"data\": \"test\"}\n",
        "        assert get_data() == {\"data\": \"test\"}\n",
        "\n",
        "```"
      ]
    },
    {
      "cell_type": "markdown",
      "id": "ff3f0491",
      "metadata": {
        "id": "ff3f0491"
      },
      "source": [
        "[Link to mock](https://docs.python.org/3/library/unittest.mock.html)."
      ]
    },
    {
      "cell_type": "markdown",
      "id": "8861f52b",
      "metadata": {
        "id": "8861f52b"
      },
      "source": [
        "### pyfakefs: Create Fake File System in Memory for Testing"
      ]
    },
    {
      "cell_type": "markdown",
      "id": "a05e6821",
      "metadata": {
        "id": "a05e6821"
      },
      "source": [
        "Sometimes you might want to test if the function that interacts with files is working properly but don't want the tests to touch the real disk.\n",
        "\n",
        "pyfakefs allows your tests to operate on a file system in memory without touching the real disk.\n",
        "\n",
        "In the code below, I created a fake directory and tested if `save_result` is creating a new file in the fake directory and writing the result to that file."
      ]
    },
    {
      "cell_type": "code",
      "execution_count": null,
      "id": "dc7360ee",
      "metadata": {
        "id": "dc7360ee"
      },
      "outputs": [],
      "source": [
        "%%writefile test_pyfakefs.py\n",
        "from pathlib import Path\n",
        "\n",
        "\n",
        "def save_result(folder: str, file_name: str, result: str):\n",
        "    # Create new file inside the folder\n",
        "    file = Path(folder) / file_name\n",
        "    file.touch()\n",
        "\n",
        "    # Write result to the new file\n",
        "    file.write_text(result)\n",
        "\n",
        "def test_save_result(fs):\n",
        "    folder = \"new\"\n",
        "    file_name = \"my_file.txt\"\n",
        "    result = \"The accuracy is 0.9\"\n",
        "\n",
        "    fs.create_dir(folder)\n",
        "\n",
        "    save_result(folder=folder, file_name=file_name, result=result)\n",
        "    res = Path(f\"{folder}/{file_name}\").read_text()\n",
        "    assert res == result"
      ]
    },
    {
      "cell_type": "markdown",
      "id": "dc8e7e4a",
      "metadata": {
        "id": "dc8e7e4a"
      },
      "source": [
        "```bash\n",
        "$ pytest test_pyfakefs.py\n",
        "```"
      ]
    },
    {
      "cell_type": "code",
      "execution_count": null,
      "id": "d6e36109",
      "metadata": {
        "ExecuteTime": {
          "end_time": "2022-09-14T14:33:36.383371Z",
          "start_time": "2022-09-14T14:33:34.825466Z"
        },
        "tags": [
          "remove-input"
        ],
        "id": "d6e36109"
      },
      "outputs": [],
      "source": [
        "!pytest test_pyfakefs.py"
      ]
    },
    {
      "cell_type": "markdown",
      "id": "0cb5f0e9",
      "metadata": {
        "id": "0cb5f0e9"
      },
      "source": [
        "[Link to pyfakefs](https://github.com/jmcgeheeiv/pyfakefs/)."
      ]
    },
    {
      "cell_type": "markdown",
      "id": "ebc33f68",
      "metadata": {
        "id": "ebc33f68"
      },
      "source": [
        "### Pandera: a Python Library to Validate Your Pandas DataFrame"
      ]
    },
    {
      "cell_type": "code",
      "execution_count": null,
      "id": "5c3906a7",
      "metadata": {
        "tags": [
          "hide-cell"
        ],
        "id": "5c3906a7"
      },
      "outputs": [],
      "source": [
        "!pip install pandera"
      ]
    },
    {
      "cell_type": "markdown",
      "id": "eafdc0b4",
      "metadata": {
        "id": "eafdc0b4"
      },
      "source": [
        "The outputs of your pandas DataFrame might not be like what you expected either due to the error in your code or the change in the data format. Using data that is different from what you expected can cause errors or lead to decrease performance.\n",
        "\n",
        "Thus, it is important to validate your data before using it. A good tool to validate pandas DataFrame is pandera. Pandera is easy to read and use."
      ]
    },
    {
      "cell_type": "code",
      "execution_count": null,
      "id": "c45a2573",
      "metadata": {
        "ExecuteTime": {
          "end_time": "2021-09-11T18:52:57.721905Z",
          "start_time": "2021-09-11T18:52:57.661626Z"
        },
        "id": "c45a2573"
      },
      "outputs": [],
      "source": [
        "import pandera as pa\n",
        "from pandera import check_input\n",
        "import pandas as pd\n",
        "\n",
        "df = pd.DataFrame({\"col1\": [5.0, 8.0, 10.0], \"col2\": [\"text_1\", \"text_2\", \"text_3\"]})\n",
        "schema = pa.DataFrameSchema(\n",
        "    {\n",
        "        \"col1\": pa.Column(float, pa.Check(lambda minute: 5 <= minute)),\n",
        "        \"col2\": pa.Column(str, pa.Check.str_startswith(\"text_\")),\n",
        "    }\n",
        ")\n",
        "validated_df = schema(df)\n",
        "validated_df"
      ]
    },
    {
      "cell_type": "markdown",
      "id": "f416a669",
      "metadata": {
        "id": "f416a669"
      },
      "source": [
        "You can also use the pandera’s decorator check_input to validates input pandas DataFrame before entering the function."
      ]
    },
    {
      "cell_type": "code",
      "execution_count": null,
      "id": "69badd3c",
      "metadata": {
        "ExecuteTime": {
          "end_time": "2021-09-11T18:53:11.865113Z",
          "start_time": "2021-09-11T18:53:11.828443Z"
        },
        "id": "69badd3c"
      },
      "outputs": [],
      "source": [
        "@check_input(schema)\n",
        "def plus_three(df):\n",
        "    df[\"col1_plus_3\"] = df[\"col1\"] + 3\n",
        "    return df\n",
        "\n",
        "\n",
        "plus_three(df)"
      ]
    },
    {
      "cell_type": "markdown",
      "id": "56d1e7ae",
      "metadata": {
        "id": "56d1e7ae"
      },
      "source": [
        "[Link to Pandera](https://pandera.readthedocs.io/en/stable/)"
      ]
    },
    {
      "cell_type": "markdown",
      "id": "a3b11c7d",
      "metadata": {
        "id": "a3b11c7d"
      },
      "source": [
        "### DeepDiff Find Deep Differences of Python Objects"
      ]
    },
    {
      "cell_type": "code",
      "execution_count": null,
      "id": "63860a6c",
      "metadata": {
        "ExecuteTime": {
          "end_time": "2021-11-22T13:17:50.028351Z",
          "start_time": "2021-11-22T13:17:44.520188Z"
        },
        "tags": [
          "hide-cell"
        ],
        "id": "63860a6c"
      },
      "outputs": [],
      "source": [
        "!pip install deepdiff"
      ]
    },
    {
      "cell_type": "markdown",
      "id": "fdd83ce9",
      "metadata": {
        "id": "fdd83ce9"
      },
      "source": [
        "When testing the outputs of your functions, it can be frustrated to see your tests fail because of something you don't care too much about such as:\n",
        "\n",
        "- order of items in a list\n",
        "\n",
        "- different ways to specify the same thing such as abbreviation\n",
        "\n",
        "- exact value up to the last decimal point, etc\n",
        "\n",
        "\n",
        "Is there a way that you can exclude certain parts of the object from the comparison? That is when DeepDiff comes in handy."
      ]
    },
    {
      "cell_type": "code",
      "execution_count": null,
      "id": "87f3301f",
      "metadata": {
        "ExecuteTime": {
          "end_time": "2021-11-22T13:18:00.366533Z",
          "start_time": "2021-11-22T13:18:00.121414Z"
        },
        "id": "87f3301f"
      },
      "outputs": [],
      "source": [
        "from deepdiff import DeepDiff"
      ]
    },
    {
      "cell_type": "markdown",
      "id": "6e9481da",
      "metadata": {
        "id": "6e9481da"
      },
      "source": [
        "DeepDiff can output a meaningful comparison like below:"
      ]
    },
    {
      "cell_type": "code",
      "execution_count": null,
      "id": "4e1e7fd0",
      "metadata": {
        "ExecuteTime": {
          "end_time": "2021-11-22T13:24:27.583499Z",
          "start_time": "2021-11-22T13:24:27.572205Z"
        },
        "id": "4e1e7fd0"
      },
      "outputs": [],
      "source": [
        "price1 = {'apple': 2, 'orange': 3, 'banana': [3, 2]}\n",
        "price2 = {'apple': 2, 'orange': 3, 'banana': [2, 3]}\n",
        "\n",
        "DeepDiff(price1, price2)"
      ]
    },
    {
      "cell_type": "markdown",
      "id": "9132debf",
      "metadata": {
        "id": "9132debf"
      },
      "source": [
        "With DeepDiff, you also have full control of which characteristics of the Python object DeepDiff should ignore. In the example below, since the order is ignored `[3, 2]` is equivalent to `[2, 3]`."
      ]
    },
    {
      "cell_type": "code",
      "execution_count": null,
      "id": "0d47c262",
      "metadata": {
        "ExecuteTime": {
          "end_time": "2021-11-22T13:24:31.055481Z",
          "start_time": "2021-11-22T13:24:31.045776Z"
        },
        "id": "0d47c262"
      },
      "outputs": [],
      "source": [
        "# Ignore orders\n",
        "\n",
        "DeepDiff(price1, price2, ignore_order=True)"
      ]
    },
    {
      "cell_type": "markdown",
      "id": "c3123f38",
      "metadata": {
        "id": "c3123f38"
      },
      "source": [
        "We can also exclude certain part of our object from the comparison. In the code below, we ignore `ml` and `machine learning` since `ml` is a abbreviation of `machine learning`."
      ]
    },
    {
      "cell_type": "code",
      "execution_count": null,
      "id": "93d493b9",
      "metadata": {
        "ExecuteTime": {
          "end_time": "2021-11-22T13:27:04.545073Z",
          "start_time": "2021-11-22T13:27:04.514993Z"
        },
        "id": "93d493b9"
      },
      "outputs": [],
      "source": [
        "experience1 = {\"machine learning\": 2, \"python\": 3}\n",
        "experience2 = {\"ml\": 2, \"python\": 3}\n",
        "\n",
        "DeepDiff(\n",
        "    experience1,\n",
        "    experience2,\n",
        "    exclude_paths={\"root['ml']\", \"root['machine learning']\"},\n",
        ")"
      ]
    },
    {
      "cell_type": "markdown",
      "id": "709e8ea7",
      "metadata": {
        "id": "709e8ea7"
      },
      "source": [
        "Cmpare 2 numbers up to a specific decimal point:"
      ]
    },
    {
      "cell_type": "code",
      "execution_count": null,
      "id": "87f96e5c",
      "metadata": {
        "ExecuteTime": {
          "end_time": "2021-11-22T13:28:38.951195Z",
          "start_time": "2021-11-22T13:28:38.932287Z"
        },
        "id": "87f96e5c"
      },
      "outputs": [],
      "source": [
        "num1 = 0.258\n",
        "num2 = 0.259\n",
        "\n",
        "DeepDiff(num1, num2, significant_digits=2)"
      ]
    },
    {
      "cell_type": "markdown",
      "id": "8f8cfa53",
      "metadata": {
        "id": "8f8cfa53"
      },
      "source": [
        "[Link to DeepDiff](https://github.com/seperman/deepdiff)."
      ]
    },
    {
      "cell_type": "markdown",
      "id": "fafb772f",
      "metadata": {
        "id": "fafb772f"
      },
      "source": [
        "### dirty-equals: Write Declarative Assertions in Your Unit Tests"
      ]
    },
    {
      "cell_type": "code",
      "execution_count": null,
      "id": "5c37f0e4",
      "metadata": {
        "tags": [
          "hide-cell"
        ],
        "id": "5c37f0e4"
      },
      "outputs": [],
      "source": [
        "!pip install dirty-equals"
      ]
    },
    {
      "cell_type": "markdown",
      "id": "c72643f1",
      "metadata": {
        "id": "c72643f1"
      },
      "source": [
        "If you want to write declarative assertions and avoid boilerplate code in your unit tests, try dirty_equals."
      ]
    },
    {
      "cell_type": "code",
      "execution_count": null,
      "id": "fe65e867",
      "metadata": {
        "id": "fe65e867"
      },
      "outputs": [],
      "source": [
        "from dirty_equals import IsNow, IsPartialDict, IsList, IsStr, IsTrueLike"
      ]
    },
    {
      "cell_type": "code",
      "execution_count": null,
      "id": "02ebc2bf",
      "metadata": {
        "id": "02ebc2bf"
      },
      "outputs": [],
      "source": [
        "from datetime import datetime\n",
        "from datetime import timedelta\n",
        "\n",
        "shopping = {\n",
        "    \"time\": datetime.today().now(),\n",
        "    \"quantity\": {\"apple\": 1, \"banana\": 2, \"orange\": 1},\n",
        "    \"locations\": [\"Walmart\", \"Aldi\"],\n",
        "    \"is_male\": 1\n",
        "}\n"
      ]
    },
    {
      "cell_type": "code",
      "execution_count": null,
      "id": "96487678",
      "metadata": {
        "id": "96487678"
      },
      "outputs": [],
      "source": [
        "assert shopping == {\n",
        "    \"time\": IsNow(delta=timedelta(hours=1)),\n",
        "    \"quantity\": IsPartialDict(apple=1, orange=1),\n",
        "    \"locations\": IsList(\"Aldi\", \"Walmart\", check_order=False),\n",
        "    \"is_male\": IsTrueLike\n",
        "}\n"
      ]
    },
    {
      "cell_type": "markdown",
      "id": "b9b76b6a",
      "metadata": {
        "id": "b9b76b6a"
      },
      "source": [
        "[Link to dirty-equals](https://github.com/samuelcolvin/dirty-equals)."
      ]
    },
    {
      "cell_type": "markdown",
      "id": "f59c4732",
      "metadata": {
        "id": "f59c4732"
      },
      "source": [
        "### hypothesis: Property-based Testing in Python"
      ]
    },
    {
      "cell_type": "code",
      "execution_count": null,
      "id": "cb458fe8",
      "metadata": {
        "tags": [
          "hide-code"
        ],
        "id": "cb458fe8"
      },
      "outputs": [],
      "source": [
        "!pip install hypothesis"
      ]
    },
    {
      "cell_type": "markdown",
      "id": "7a5711c6",
      "metadata": {
        "id": "7a5711c6"
      },
      "source": [
        "If you want to test some properties or assumptions, it can be cumbersome to write a wide range of scenarios. To automatically run your tests against a wide range of scenarios and find edge cases in your code that you would otherwise have missed, use hypothesis."
      ]
    },
    {
      "cell_type": "markdown",
      "id": "d864f27f",
      "metadata": {
        "id": "d864f27f"
      },
      "source": [
        "In the code below, I test if the addition of two floats is commutative. The test fails when either `x` or `y` is `NaN`."
      ]
    },
    {
      "cell_type": "code",
      "execution_count": null,
      "id": "d724e527",
      "metadata": {
        "id": "d724e527"
      },
      "outputs": [],
      "source": [
        "%%writefile test_hypothesis.py\n",
        "from hypothesis import given\n",
        "from hypothesis.strategies import floats\n",
        "\n",
        "\n",
        "\n",
        "@given(floats(), floats())\n",
        "def test_floats_are_commutative(x, y):\n",
        "    assert x + y == y + x"
      ]
    },
    {
      "cell_type": "markdown",
      "id": "e041cdb0",
      "metadata": {
        "id": "e041cdb0"
      },
      "source": [
        "```bash\n",
        "$ pytest test_hypothesis.py\n",
        "```"
      ]
    },
    {
      "cell_type": "code",
      "execution_count": null,
      "id": "04224a70",
      "metadata": {
        "ExecuteTime": {
          "end_time": "2021-12-15T14:05:11.335715Z",
          "start_time": "2021-12-15T14:05:10.283884Z"
        },
        "tags": [
          "remove-input"
        ],
        "id": "04224a70"
      },
      "outputs": [],
      "source": [
        "!pytest test_hypothesis.py"
      ]
    },
    {
      "cell_type": "markdown",
      "id": "68b8929b",
      "metadata": {
        "id": "68b8929b"
      },
      "source": [
        "Now I can rewrite my code to make it more robust against these edge cases."
      ]
    },
    {
      "cell_type": "markdown",
      "id": "d56dd3da",
      "metadata": {
        "id": "d56dd3da"
      },
      "source": [
        "[Link to hypothesis](https://hypothesis.readthedocs.io/en/latest/quickstart.html)."
      ]
    },
    {
      "cell_type": "markdown",
      "id": "d030f9a2",
      "metadata": {
        "id": "d030f9a2"
      },
      "source": [
        "### Deepchecks: Check Category Mismatch Between Train and Test Set"
      ]
    },
    {
      "cell_type": "code",
      "execution_count": null,
      "id": "a1c8fa6e",
      "metadata": {
        "ExecuteTime": {
          "end_time": "2022-01-21T15:33:45.159767Z",
          "start_time": "2022-01-21T15:33:31.410396Z"
        },
        "tags": [
          "hide-cell"
        ],
        "id": "a1c8fa6e"
      },
      "outputs": [],
      "source": [
        "!pip install deepchecks"
      ]
    },
    {
      "cell_type": "markdown",
      "id": "12e9c3e8",
      "metadata": {
        "id": "12e9c3e8"
      },
      "source": [
        "Sometimes, it is important to know if your test set contains the same categories in the train set. If you want to check the category mismatch between the train and test set, use Deepchecks's `CategoryMismatchTrainTest`."
      ]
    },
    {
      "cell_type": "markdown",
      "id": "23406d85",
      "metadata": {
        "id": "23406d85"
      },
      "source": [
        "In the example below, the result shows that there are 2 new categories in the test set. They are 'd' and 'e'."
      ]
    },
    {
      "cell_type": "code",
      "execution_count": null,
      "id": "5e214c8b",
      "metadata": {
        "ExecuteTime": {
          "end_time": "2022-01-21T15:41:30.697748Z",
          "start_time": "2022-01-21T15:41:30.682598Z"
        },
        "id": "5e214c8b"
      },
      "outputs": [],
      "source": [
        "from deepchecks.checks.integrity.new_category import CategoryMismatchTrainTest\n",
        "from deepchecks.base import Dataset\n",
        "import pandas as pd"
      ]
    },
    {
      "cell_type": "code",
      "execution_count": null,
      "id": "6d7f941c",
      "metadata": {
        "ExecuteTime": {
          "end_time": "2022-01-21T15:41:31.957360Z",
          "start_time": "2022-01-21T15:41:31.947954Z"
        },
        "id": "6d7f941c"
      },
      "outputs": [],
      "source": [
        "train = pd.DataFrame({\"col1\": [\"a\", \"b\", \"c\"]})\n",
        "test = pd.DataFrame({\"col1\": [\"c\", \"d\", \"e\"]})\n",
        "\n",
        "train_ds = Dataset(train, cat_features=[\"col1\"])\n",
        "test_ds = Dataset(test, cat_features=[\"col1\"])"
      ]
    },
    {
      "cell_type": "code",
      "execution_count": null,
      "id": "465d2e2a",
      "metadata": {
        "ExecuteTime": {
          "end_time": "2022-01-21T15:44:25.958451Z",
          "start_time": "2022-01-21T15:44:25.930984Z"
        },
        "scrolled": true,
        "id": "465d2e2a"
      },
      "outputs": [],
      "source": [
        "CategoryMismatchTrainTest().run(train_ds, test_ds)"
      ]
    },
    {
      "cell_type": "markdown",
      "id": "22584fe0",
      "metadata": {
        "id": "22584fe0"
      },
      "source": [
        "[Link to Deepchecks](https://docs.deepchecks.com/en/stable/)"
      ]
    },
    {
      "cell_type": "markdown",
      "id": "7dacd613",
      "metadata": {
        "id": "7dacd613"
      },
      "source": [
        "### Check Conflicting Labels with Deepchecks"
      ]
    },
    {
      "cell_type": "markdown",
      "id": "6d764ce0",
      "metadata": {
        "id": "6d764ce0"
      },
      "source": [
        "Sometimes, your data might have identical samples with different labels. This might be because the data was mislabeled.\n",
        "\n",
        "It is good to identify these conflicting labels in your data before using the data to train your ML model. To check conflicting labels in your data, use deepchecks.\n",
        "\n",
        "In the example below, deepchecks identified that samples 0 and 1 have the same features but different labels."
      ]
    },
    {
      "cell_type": "code",
      "execution_count": null,
      "id": "8c1fd026",
      "metadata": {
        "id": "8c1fd026"
      },
      "outputs": [],
      "source": [
        "import pandas as pd\n",
        "from deepchecks.tabular import Dataset\n",
        "from deepchecks.tabular.checks import ConflictingLabels"
      ]
    },
    {
      "cell_type": "code",
      "execution_count": null,
      "id": "de187058",
      "metadata": {
        "id": "de187058"
      },
      "outputs": [],
      "source": [
        "df = pd.DataFrame({\n",
        "    \"value1\": [1, 1, 3],\n",
        "    \"value2\": [2, 2, 4],\n",
        "    \"label\": [\"a\", \"b\", \"c\"]\n",
        "})\n",
        "df"
      ]
    },
    {
      "cell_type": "code",
      "execution_count": null,
      "id": "c6f1e56e",
      "metadata": {
        "id": "c6f1e56e"
      },
      "outputs": [],
      "source": [
        "dataset = Dataset(df, label='label')\n",
        "ConflictingLabels().run(dataset)"
      ]
    },
    {
      "cell_type": "markdown",
      "id": "48551ffe",
      "metadata": {
        "id": "48551ffe"
      },
      "source": [
        "### Evaluate Your ML Model Performance with Simple Model Comparison"
      ]
    },
    {
      "cell_type": "code",
      "execution_count": null,
      "id": "de2c1388",
      "metadata": {
        "tags": [
          "hide-cell"
        ],
        "id": "de2c1388"
      },
      "outputs": [],
      "source": [
        "!pip install deepchecks"
      ]
    },
    {
      "cell_type": "markdown",
      "id": "6452032d",
      "metadata": {
        "id": "6452032d"
      },
      "source": [
        "How do you check if your ML model is trained properly? One approach is to use a simple model for comparison.\n",
        "\n",
        "A simple model establishes a minimum performance benchmark for the given task. A model achieving less or a similar score to the simple model indicates a possible problem with the model.\n",
        "\n",
        "The following code shows how to evaluate a model's performance using Deepchecks' simple model comparison."
      ]
    },
    {
      "cell_type": "code",
      "execution_count": null,
      "id": "693d9a2b",
      "metadata": {
        "id": "693d9a2b"
      },
      "outputs": [],
      "source": [
        "from deepchecks.tabular.datasets.classification.phishing import (\n",
        "    load_data, load_fitted_model)\n",
        "\n",
        "train_dataset, test_dataset = load_data()\n",
        "model = load_fitted_model()\n"
      ]
    },
    {
      "cell_type": "code",
      "execution_count": null,
      "id": "ca78b4ce",
      "metadata": {
        "id": "ca78b4ce"
      },
      "outputs": [],
      "source": [
        "model.steps"
      ]
    },
    {
      "cell_type": "code",
      "execution_count": null,
      "id": "d3b87391",
      "metadata": {
        "id": "d3b87391"
      },
      "outputs": [],
      "source": [
        "from deepchecks.tabular.checks import SimpleModelComparison\n",
        "\n",
        "# Using tree model as a simple model\n",
        "check = SimpleModelComparison(strategy='tree')\n",
        "check.run(train_dataset, test_dataset, model)"
      ]
    },
    {
      "cell_type": "markdown",
      "id": "a2f9a0e7",
      "metadata": {
        "id": "a2f9a0e7"
      },
      "source": [
        "[Link to Deepchecks](https://docs.deepchecks.com/en/stable/)"
      ]
    },
    {
      "cell_type": "code",
      "execution_count": null,
      "id": "066689ff",
      "metadata": {
        "id": "066689ff"
      },
      "outputs": [],
      "source": [
        "from sklearn.preprocessing import MinMaxScaler\n",
        "import numpy as np\n",
        "# Original data\n",
        "data = np.array([[1, 3, 5, 7, 9]])\n",
        "\n",
        "# Scaling transformation\n",
        "scaler = MinMaxScaler(feature_range=(0, 1))\n",
        "scaled_data = scaler.fit_transform(data)\n",
        "\n",
        "# Inverse transformation\n",
        "original_data = scaler.inverse_transform(scaled_data)\n",
        "\n",
        "print(\"Original data:\", data)\n",
        "print(\"Scaled data:\", scaled_data)\n",
        "print(\"Restored data:\", original_data)\n"
      ]
    },
    {
      "cell_type": "markdown",
      "id": "543d97cb",
      "metadata": {
        "id": "543d97cb"
      },
      "source": [
        "### leAB: AB Testing Analysis in Python"
      ]
    },
    {
      "cell_type": "code",
      "execution_count": null,
      "id": "45056791",
      "metadata": {
        "tags": [
          "hide-cell"
        ],
        "id": "45056791"
      },
      "outputs": [],
      "source": [
        "!pip install leab"
      ]
    },
    {
      "cell_type": "markdown",
      "id": "3f271989",
      "metadata": {
        "id": "3f271989"
      },
      "source": [
        "AB testing is crucial for assessing the effectiveness of changes in a controlled environment. With the leAB library, you can compute the appropriate sample size before launching the test.  "
      ]
    },
    {
      "cell_type": "code",
      "execution_count": null,
      "id": "62c61ee2",
      "metadata": {
        "id": "62c61ee2"
      },
      "outputs": [],
      "source": [
        "from leab import before\n",
        "\n",
        "# What is the number of sample needed per variation to detect a 1% result\n",
        "# difference in a population with a 15% conversion rate?\n",
        "ab_test = before.leSample(conversion_rate=15, min_detectable_effect=1)\n",
        "ab_test.get_size_per_variation()\n"
      ]
    },
    {
      "cell_type": "markdown",
      "id": "e941b62e",
      "metadata": {
        "id": "e941b62e"
      },
      "source": [
        "After reaching the sample size, you can compare the successes between group A and group B."
      ]
    },
    {
      "cell_type": "code",
      "execution_count": null,
      "id": "7b7fdc34",
      "metadata": {
        "id": "7b7fdc34"
      },
      "outputs": [],
      "source": [
        "from leab import after, leDataset\n",
        "\n",
        "# Import sample data for A and B\n",
        "data = leDataset.SampleLeSuccess()\n",
        "data.A.head()\n"
      ]
    },
    {
      "cell_type": "code",
      "execution_count": null,
      "id": "661cbf32",
      "metadata": {
        "id": "661cbf32"
      },
      "outputs": [],
      "source": [
        "ab_test = after.leSuccess(data.A, data.B, confidence_level=0.95)\n",
        "\n",
        "# Get the conclusion on the test\n",
        "ab_test.get_verdict()"
      ]
    },
    {
      "cell_type": "markdown",
      "id": "e67559a0",
      "metadata": {
        "id": "e67559a0"
      },
      "source": [
        "[Link to leAB](https://github.com/tlentali/leab)."
      ]
    },
    {
      "cell_type": "markdown",
      "id": "0f1993ce",
      "metadata": {
        "id": "0f1993ce"
      },
      "source": [
        "### pytest-postgresql: Incorporate Database Testing into Your pytest Test Suite"
      ]
    },
    {
      "cell_type": "code",
      "execution_count": null,
      "id": "eebb9ea5",
      "metadata": {
        "tags": [
          "hide-cell"
        ],
        "id": "eebb9ea5"
      },
      "outputs": [],
      "source": [
        "!pip install pytest-postgresql"
      ]
    },
    {
      "cell_type": "markdown",
      "id": "9e13d0d9",
      "metadata": {
        "id": "9e13d0d9"
      },
      "source": [
        "If you want to incorporate database testing seamlessly within your pytest test suite, use pytest-postgresql.\n",
        "\n",
        "pytest-postgres provides fixtures that manage the setup and cleanup of test databases, ensuring repeatable tests. Additionally, each test runs in isolation, preventing any impact on the production database from testing changes."
      ]
    },
    {
      "cell_type": "code",
      "execution_count": null,
      "id": "435bef4f",
      "metadata": {
        "id": "435bef4f"
      },
      "outputs": [],
      "source": [
        "%%writefile test_postgres.py\n",
        "def test_query_results(postgresql):\n",
        "    \"\"\"Check that the query results are as expected.\"\"\"\n",
        "    with postgresql.cursor() as cur:\n",
        "        cur.execute(\"CREATE TABLE test_table (id SERIAL PRIMARY KEY, name VARCHAR);\")\n",
        "        cur.execute(\"INSERT INTO test_table (name) VALUES ('John'), ('Jane'), ('Alice');\")\n",
        "\n",
        "        # Assert the results\n",
        "        cur.execute(\"SELECT * FROM test_table;\")\n",
        "        assert cur.fetchall() == [(1, 'John'), (2, 'Jane'), (3, 'Alice')]"
      ]
    },
    {
      "cell_type": "markdown",
      "id": "de96acd7",
      "metadata": {
        "id": "de96acd7"
      },
      "source": [
        "```bash\n",
        "$ pytest test_postgres.py\n",
        "```"
      ]
    },
    {
      "cell_type": "code",
      "execution_count": null,
      "id": "d71b6c5d",
      "metadata": {
        "tags": [
          "remove-input"
        ],
        "id": "d71b6c5d"
      },
      "outputs": [],
      "source": [
        "!pytest test_postgres.py"
      ]
    },
    {
      "cell_type": "markdown",
      "id": "f44b1127",
      "metadata": {
        "id": "f44b1127"
      },
      "source": [
        "[Link to pytest-postgresql](https://github.com/ClearcodeHQ/pytest-postgresql)."
      ]
    }
  ],
  "metadata": {
    "celltoolbar": "Tags",
    "hide_input": false,
    "kernelspec": {
      "display_name": "venv",
      "language": "python",
      "name": "python3"
    },
    "language_info": {
      "codemirror_mode": {
        "name": "ipython",
        "version": 3
      },
      "file_extension": ".py",
      "mimetype": "text/x-python",
      "name": "python",
      "nbconvert_exporter": "python",
      "pygments_lexer": "ipython3",
      "version": "3.9.6"
    },
    "toc": {
      "base_numbering": 1,
      "nav_menu": {},
      "number_sections": true,
      "sideBar": true,
      "skip_h1_title": false,
      "title_cell": "Table of Contents",
      "title_sidebar": "Contents",
      "toc_cell": false,
      "toc_position": {},
      "toc_section_display": true,
      "toc_window_display": false
    },
    "vscode": {
      "interpreter": {
        "hash": "c3bc044b9863ed6dec4c55e7ad5af27f030f7d27aed3f39d7a4886a926c4e2c1"
      }
    },
    "colab": {
      "provenance": [],
      "include_colab_link": true
    }
  },
  "nbformat": 4,
  "nbformat_minor": 5
}