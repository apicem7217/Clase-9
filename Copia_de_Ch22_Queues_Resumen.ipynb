{
  "cells": [
    {
      "cell_type": "markdown",
      "metadata": {
        "id": "view-in-github",
        "colab_type": "text"
      },
      "source": [
        "<a href=\"https://colab.research.google.com/github/apicem7217/Clase-9/blob/Phyton/Copia_de_Ch22_Queues_Resumen.ipynb\" target=\"_parent\"><img src=\"https://colab.research.google.com/assets/colab-badge.svg\" alt=\"Open In Colab\"/></a>"
      ]
    },
    {
      "cell_type": "markdown",
      "metadata": {
        "id": "nzYsHI0vT9o5"
      },
      "source": [
        "# Queues\n",
        "\n",
        "- Otro adaptador de contenedor o ADT, que suele ser una estructura de datos de tipo primero en entrar, primero en salir (**FIFO**)\n",
        "- Imita la cola / línea del mundo real de personas que esperan algo\n",
        "- La regla que determina quién va a continuación se llama política de colas\n",
        "- La política de colas más general es la cola prioritaria, en la que a cada artículo/persona se le asigna una prioridad y el elemento con mayor prioridad va primero, independientemente del orden de llegada"
      ]
    },
    {
      "cell_type": "markdown",
      "metadata": {
        "id": "TODWISQcT9o7"
      },
      "source": [
        "## Queue ADT\n",
        "\n",
        "- queque ADT se define mediante las siguientes operaciones:\n",
        "  - **\\_\\_init\\_\\_ :** inicializa\n",
        "  - **insert :** agrega un nuevo item a la fila\n",
        "  - **remove :** remueve y regresa el primer elemento que fue agregado\n",
        "  - **is_empty :** Valida si fila está vacía"
      ]
    },
    {
      "cell_type": "markdown",
      "metadata": {
        "id": "XsLSH-yWT9o7"
      },
      "source": [
        "## Linked Queue"
      ]
    },
    {
      "cell_type": "code",
      "execution_count": null,
      "metadata": {
        "id": "ttXcgotmT9o8"
      },
      "outputs": [],
      "source": [
        "class Node:\n",
        "  def __init__(self, data):\n",
        "    self.cargo = data\n",
        "    # next es de tipo Node\n",
        "    self.next = None\n",
        "\n",
        "  def __str__(self):\n",
        "    return f\"{self.cargo}\""
      ]
    },
    {
      "cell_type": "code",
      "source": [
        "node = Node(\"Estoy dentro del nodo\")"
      ],
      "metadata": {
        "id": "6AcDtTo9hK2f"
      },
      "execution_count": null,
      "outputs": []
    },
    {
      "cell_type": "code",
      "source": [
        "print(node)"
      ],
      "metadata": {
        "id": "rX3-0gdIhOjb"
      },
      "execution_count": null,
      "outputs": []
    },
    {
      "cell_type": "code",
      "execution_count": null,
      "metadata": {
        "id": "pjzlweJVT9o9"
      },
      "outputs": [],
      "source": [
        "class Queue:\n",
        "    def __init__(self):\n",
        "        self.length = 0\n",
        "        self.head = None\n",
        "        self.tail = None\n",
        "\n",
        "    def is_empty(self):\n",
        "        return self.length == 0\n",
        "\n",
        "    def insert(self, data):\n",
        "        node = Node(data)\n",
        "        if not self.head: # empty queue\n",
        "            print(\"Creando head y tail\")\n",
        "            self.head = self.tail = node\n",
        "        else:\n",
        "            print(\"Agregando un nuevo nodo\")\n",
        "            # agrega un nuevo nodo, al último nodo\n",
        "            self.tail.next = node\n",
        "            self.tail = node\n",
        "        self.length += 1\n",
        "\n",
        "    def remove(self):\n",
        "        data = self.head.cargo\n",
        "        # make the head point to 2nd element\n",
        "        self.head = self.head.next\n",
        "        self.length -= 1\n",
        "        # update tail if the queue becomes empty after removing the first node\n",
        "        if self.length == 0:\n",
        "            self.tail = None\n",
        "\n",
        "        return data\n",
        "\n",
        "    def __len__(self):\n",
        "        return self.length"
      ]
    },
    {
      "cell_type": "markdown",
      "metadata": {
        "id": "28ltEM2eT9o-"
      },
      "source": [
        "### Ttest of Queue ADT"
      ]
    },
    {
      "cell_type": "markdown",
      "source": [
        "Insertando primer elemento"
      ],
      "metadata": {
        "id": "XJnajpi-kL7y"
      }
    },
    {
      "cell_type": "code",
      "source": [
        "q = Queue()\n",
        "q.insert(1)"
      ],
      "metadata": {
        "id": "9E-snmE_hxpj"
      },
      "execution_count": null,
      "outputs": []
    },
    {
      "cell_type": "code",
      "source": [
        "type(q.head)"
      ],
      "metadata": {
        "id": "6T51S_THhydA"
      },
      "execution_count": null,
      "outputs": []
    },
    {
      "cell_type": "code",
      "source": [
        "q.head.cargo"
      ],
      "metadata": {
        "id": "K0wFEt7fh44B"
      },
      "execution_count": null,
      "outputs": []
    },
    {
      "cell_type": "code",
      "source": [
        "q.tail.cargo"
      ],
      "metadata": {
        "id": "VJPXQTMuh-pn"
      },
      "execution_count": null,
      "outputs": []
    },
    {
      "cell_type": "code",
      "source": [
        "q.head.next"
      ],
      "metadata": {
        "id": "RtzMq4auj6nv"
      },
      "execution_count": null,
      "outputs": []
    },
    {
      "cell_type": "code",
      "source": [
        "q.tail.next"
      ],
      "metadata": {
        "id": "QN1v5tO1j-bF"
      },
      "execution_count": null,
      "outputs": []
    },
    {
      "cell_type": "markdown",
      "source": [
        "Insertando segundo elemento"
      ],
      "metadata": {
        "id": "-JCM6I2_kIbG"
      }
    },
    {
      "cell_type": "code",
      "source": [
        "q.insert(2)"
      ],
      "metadata": {
        "id": "7YZGubi4iLuQ"
      },
      "execution_count": null,
      "outputs": []
    },
    {
      "cell_type": "code",
      "source": [
        "q.head.cargo"
      ],
      "metadata": {
        "id": "suT5UA9CiMeJ"
      },
      "execution_count": null,
      "outputs": []
    },
    {
      "cell_type": "code",
      "source": [
        "q.head.next"
      ],
      "metadata": {
        "id": "6MAUWDx6k3qz"
      },
      "execution_count": null,
      "outputs": []
    },
    {
      "cell_type": "code",
      "source": [
        "q.head.next.cargo"
      ],
      "metadata": {
        "id": "MdcJlpfAk66c"
      },
      "execution_count": null,
      "outputs": []
    },
    {
      "cell_type": "code",
      "source": [
        "q.tail.cargo"
      ],
      "metadata": {
        "id": "3hFUGxSBiN1D"
      },
      "execution_count": null,
      "outputs": []
    },
    {
      "cell_type": "code",
      "source": [
        "q.tail.next"
      ],
      "metadata": {
        "id": "ioUE6cdbjm5w"
      },
      "execution_count": null,
      "outputs": []
    },
    {
      "cell_type": "markdown",
      "source": [
        "Insertando el tercer elemento"
      ],
      "metadata": {
        "id": "gLGM8TAskvIE"
      }
    },
    {
      "cell_type": "code",
      "source": [
        "q.insert('a')"
      ],
      "metadata": {
        "id": "B5TB9ZLniQNo"
      },
      "execution_count": null,
      "outputs": []
    },
    {
      "cell_type": "code",
      "source": [
        "q.head.cargo"
      ],
      "metadata": {
        "id": "H6AmxGNziRyO"
      },
      "execution_count": null,
      "outputs": []
    },
    {
      "cell_type": "code",
      "source": [
        "q.head.next.next.cargo"
      ],
      "metadata": {
        "id": "ThlyXi8dlGA7"
      },
      "execution_count": null,
      "outputs": []
    },
    {
      "cell_type": "code",
      "source": [
        "len(q)"
      ],
      "metadata": {
        "id": "rMNGPCf8n6E3"
      },
      "execution_count": null,
      "outputs": []
    },
    {
      "cell_type": "code",
      "source": [
        "q.tail.cargo"
      ],
      "metadata": {
        "id": "vKfxc5fUiSm-"
      },
      "execution_count": null,
      "outputs": []
    },
    {
      "cell_type": "markdown",
      "source": [
        "Eliminando el head"
      ],
      "metadata": {
        "id": "UYlq72XRlkBI"
      }
    },
    {
      "cell_type": "code",
      "source": [
        "q.remove()"
      ],
      "metadata": {
        "id": "85DTC5Wejelx"
      },
      "execution_count": null,
      "outputs": []
    },
    {
      "cell_type": "code",
      "source": [
        "q.head.cargo"
      ],
      "metadata": {
        "id": "AVwWtd9wlnMN"
      },
      "execution_count": null,
      "outputs": []
    },
    {
      "cell_type": "markdown",
      "metadata": {
        "id": "4uSp6p0AT9o-"
      },
      "source": [
        "## Priority Queue ADT\n",
        "- Usa los mismos métodos que Queue con la única diferencia en la función de eliminación; donde el elemento eliminado es la prioridad más alta\n",
        "    - el elemento eliminado no es necesariamente el primero que se agregó; más bien un elemento en la cola con la prioridad más alta\n",
        "    - por ejemplo, si los elementos en la cola tienen nombres, podemos elegir el elemento en orden alfabético"
      ]
    },
    {
      "cell_type": "code",
      "execution_count": null,
      "metadata": {
        "id": "OOr9-kcWT9o-"
      },
      "outputs": [],
      "source": [
        "class PriorityQueue:\n",
        "    def __init__(self):\n",
        "        self.items = []\n",
        "\n",
        "    def is_empty(self):\n",
        "        return self.items == []\n",
        "\n",
        "    def insert(self, data):\n",
        "        self.items.append(data)\n",
        "\n",
        "    def remove(self):\n",
        "        maxi = 0\n",
        "        for i in range(1, len(self.items)):\n",
        "            if self.items[i] > self.items[maxi]:\n",
        "                maxi = i\n",
        "        item = self.items[maxi]\n",
        "        del self.items[maxi]\n",
        "        return item\n",
        "\n",
        "    def __len__(self):\n",
        "        return len(self.items)"
      ]
    },
    {
      "cell_type": "markdown",
      "metadata": {
        "id": "28EjAvwxT9o-"
      },
      "source": [
        "### Test priority queue ADT"
      ]
    },
    {
      "cell_type": "code",
      "execution_count": null,
      "metadata": {
        "id": "Ypx4OpreT9o_"
      },
      "outputs": [],
      "source": [
        "q = PriorityQueue()\n",
        "for num in [15, 13, 11, 19, 2]:\n",
        "    q.insert(num)"
      ]
    },
    {
      "cell_type": "code",
      "source": [
        "q.items"
      ],
      "metadata": {
        "id": "swCb1hHfs85P"
      },
      "execution_count": null,
      "outputs": []
    },
    {
      "cell_type": "code",
      "execution_count": null,
      "metadata": {
        "id": "T5EEOsmKT9o_"
      },
      "outputs": [],
      "source": [
        "while not q.is_empty():\n",
        "    print(q.remove())"
      ]
    },
    {
      "cell_type": "markdown",
      "metadata": {
        "id": "USSJS6wrT9pA"
      },
      "source": [
        "## Clase Driver\n"
      ]
    },
    {
      "cell_type": "code",
      "execution_count": null,
      "metadata": {
        "id": "1OTMmMAST9pA"
      },
      "outputs": [],
      "source": [
        "class Driver:\n",
        "    def __init__(self, name, score):\n",
        "      self.name = name\n",
        "      self.score = score\n",
        "\n",
        "    def __str__(self):\n",
        "      return f\"El piloto {self.name} tiene un puntaje de {self.score}\"\n",
        "\n",
        "    # Puntaje más bajo tiene la prioridad más alta.\n",
        "    # other es otro objeto de la clase Driver\n",
        "    def __gt__(self, other):\n",
        "      # __gt__ greater than\n",
        "      return self.score < other.score"
      ]
    },
    {
      "cell_type": "code",
      "source": [
        "checo = Driver('Sergio Pérez', 171)"
      ],
      "metadata": {
        "id": "uQeZLnZUtNf9"
      },
      "execution_count": null,
      "outputs": []
    },
    {
      "cell_type": "code",
      "source": [
        "print(checo)"
      ],
      "metadata": {
        "id": "92NBCCCVrpww"
      },
      "execution_count": null,
      "outputs": []
    },
    {
      "cell_type": "code",
      "source": [
        "fer = Driver('Fernando Alonso', 139)\n",
        "max = Driver('Max Verstappen', 281)\n",
        "lewis = Driver('Lewis Hamilton', 133)"
      ],
      "metadata": {
        "id": "yeiG2TsptPYu"
      },
      "execution_count": null,
      "outputs": []
    },
    {
      "cell_type": "code",
      "source": [
        "checo.score > max.score"
      ],
      "metadata": {
        "id": "171sda6Ur8im"
      },
      "execution_count": null,
      "outputs": []
    },
    {
      "cell_type": "code",
      "source": [
        "checo > max"
      ],
      "metadata": {
        "id": "alx6FK2vr1Or"
      },
      "execution_count": null,
      "outputs": []
    },
    {
      "cell_type": "code",
      "source": [
        "pq = PriorityQueue()\n",
        "pq.insert(checo)\n",
        "pq.insert(max)\n",
        "pq.insert(fer)\n",
        "pq.insert(lewis)"
      ],
      "metadata": {
        "id": "oyIoKYYwtnNe"
      },
      "execution_count": null,
      "outputs": []
    },
    {
      "cell_type": "code",
      "source": [
        "for i in pq.items:\n",
        "  print(i)"
      ],
      "metadata": {
        "id": "prNeCruHtoSF"
      },
      "execution_count": null,
      "outputs": []
    },
    {
      "cell_type": "code",
      "source": [
        "print(pq.remove())"
      ],
      "metadata": {
        "id": "br7ZPJaWtZC6"
      },
      "execution_count": null,
      "outputs": []
    },
    {
      "cell_type": "code",
      "execution_count": null,
      "metadata": {
        "id": "iIYPmWxzT9pA"
      },
      "outputs": [],
      "source": [
        "while not pq.is_empty():\n",
        "    print(pq.remove())"
      ]
    }
  ],
  "metadata": {
    "kernelspec": {
      "display_name": "Python 3",
      "language": "python",
      "name": "python3"
    },
    "language_info": {
      "codemirror_mode": {
        "name": "ipython",
        "version": 3
      },
      "file_extension": ".py",
      "mimetype": "text/x-python",
      "name": "python",
      "nbconvert_exporter": "python",
      "pygments_lexer": "ipython3",
      "version": "3.7.2"
    },
    "colab": {
      "provenance": [],
      "include_colab_link": true
    }
  },
  "nbformat": 4,
  "nbformat_minor": 0
}