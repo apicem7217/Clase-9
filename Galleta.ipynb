{
  "nbformat": 4,
  "nbformat_minor": 0,
  "metadata": {
    "colab": {
      "provenance": [],
      "authorship_tag": "ABX9TyMyx+IN57jN9lT39Z3Dp+Af",
      "include_colab_link": true
    },
    "kernelspec": {
      "name": "python3",
      "display_name": "Python 3"
    },
    "language_info": {
      "name": "python"
    }
  },
  "cells": [
    {
      "cell_type": "markdown",
      "metadata": {
        "id": "view-in-github",
        "colab_type": "text"
      },
      "source": [
        "<a href=\"https://colab.research.google.com/github/apicem7217/Clase-9/blob/Phyton/Galleta.ipynb\" target=\"_parent\"><img src=\"https://colab.research.google.com/assets/colab-badge.svg\" alt=\"Open In Colab\"/></a>"
      ]
    },
    {
      "cell_type": "code",
      "execution_count": null,
      "metadata": {
        "id": "M0-o3qETU6TJ"
      },
      "outputs": [],
      "source": []
    },
    {
      "cell_type": "markdown",
      "source": [],
      "metadata": {
        "id": "QJc6ZvtfVBsP"
      }
    },
    {
      "cell_type": "code",
      "source": [
        "# Crear la clase Galleta, la cual reciba los siguiente argumentos:\n",
        "\n",
        "# sabor: string\n",
        "# diametro: float\n",
        "# chispas: bool\n",
        "\n",
        "galleta = {\n",
        "  \"sabor\": \"Oreo\",\n",
        "  \"diametro\": 4.4,\n",
        "  \"chispas\": \"chispasr\",\n",
        "}\n"
      ],
      "metadata": {
        "id": "AxrPJjI3VCIA"
      },
      "execution_count": 2,
      "outputs": []
    },
    {
      "cell_type": "code",
      "source": [
        "type(galleta)"
      ],
      "metadata": {
        "colab": {
          "base_uri": "https://localhost:8080/"
        },
        "id": "JH_YT_msVpSG",
        "outputId": "49c21a53-acd3-400a-aeb8-5924a7cf7458"
      },
      "execution_count": 4,
      "outputs": [
        {
          "output_type": "execute_result",
          "data": {
            "text/plain": [
              "dict"
            ]
          },
          "metadata": {},
          "execution_count": 4
        }
      ]
    },
    {
      "cell_type": "code",
      "source": [
        "class galleta:\n",
        "  def __init__(galleta, sabor, diametro, chispas): # self es igual Libro\n",
        "    print(\"Hola, me estoy imprimiendo\")\n",
        "    galleta.sabor = sabor\n",
        "    galleta.diametro = diametro\n",
        "    galleta.chispas = chispas"
      ],
      "metadata": {
        "id": "6Ji-kvEYV1Vf"
      },
      "execution_count": 6,
      "outputs": []
    },
    {
      "cell_type": "code",
      "source": [
        "libro = galleta(\"Oreo\", 4.4 , \"chispas\")"
      ],
      "metadata": {
        "colab": {
          "base_uri": "https://localhost:8080/"
        },
        "id": "_GqaOU9AWj0F",
        "outputId": "3c41ce8f-0d15-47f8-b8ce-51ab2950f811"
      },
      "execution_count": 7,
      "outputs": [
        {
          "output_type": "stream",
          "name": "stdout",
          "text": [
            "Hola, me estoy imprimiendo\n"
          ]
        }
      ]
    },
    {
      "cell_type": "code",
      "source": [
        "class galleta:\n",
        "  pass\n",
        "\n",
        "# Aquí son funciones\n",
        "def peso(diametro, chispas):\n",
        "  return diametro * 11 + chispas * 2\n"
      ],
      "metadata": {
        "id": "ez8qKdwnW49s"
      },
      "execution_count": 8,
      "outputs": []
    },
    {
      "cell_type": "code",
      "source": [
        "class galleta:\n",
        "  def __init__(self, diametro, chispas):\n",
        "    # Creando atributos de clase\n",
        "    self.diametro = diametro\n",
        "    self.chispas = chispas\n",
        "\n",
        "  # Aquí son métodos\n",
        "  def peso(self):\n",
        "    return self.diametro * 11\n",
        "\n"
      ],
      "metadata": {
        "id": "SwuLO4sfXbMT"
      },
      "execution_count": 17,
      "outputs": []
    },
    {
      "cell_type": "code",
      "source": [
        "mi galleta = galleta(4, \"chispas\")"
      ],
      "metadata": {
        "colab": {
          "base_uri": "https://localhost:8080/",
          "height": 130
        },
        "id": "CHHs6c0UX7pe",
        "outputId": "56a1266d-0abd-4c1f-a6ca-4be542dac566"
      },
      "execution_count": 20,
      "outputs": [
        {
          "output_type": "error",
          "ename": "SyntaxError",
          "evalue": "ignored",
          "traceback": [
            "\u001b[0;36m  File \u001b[0;32m\"<ipython-input-20-63d4cf1dd134>\"\u001b[0;36m, line \u001b[0;32m1\u001b[0m\n\u001b[0;31m    mi galleta = galleta(4, \"chispas\")\u001b[0m\n\u001b[0m       ^\u001b[0m\n\u001b[0;31mSyntaxError\u001b[0m\u001b[0;31m:\u001b[0m invalid syntax\n"
          ]
        }
      ]
    },
    {
      "cell_type": "code",
      "source": [
        "mi galleta,diametro()"
      ],
      "metadata": {
        "colab": {
          "base_uri": "https://localhost:8080/",
          "height": 130
        },
        "id": "UUJtCioFY3X5",
        "outputId": "266d597d-9e57-4007-ac62-4e49639e77d5"
      },
      "execution_count": 21,
      "outputs": [
        {
          "output_type": "error",
          "ename": "SyntaxError",
          "evalue": "ignored",
          "traceback": [
            "\u001b[0;36m  File \u001b[0;32m\"<ipython-input-21-6b4edc0815fd>\"\u001b[0;36m, line \u001b[0;32m1\u001b[0m\n\u001b[0;31m    mi galleta,diametro()\u001b[0m\n\u001b[0m       ^\u001b[0m\n\u001b[0;31mSyntaxError\u001b[0m\u001b[0;31m:\u001b[0m invalid syntax\n"
          ]
        }
      ]
    }
  ]
}