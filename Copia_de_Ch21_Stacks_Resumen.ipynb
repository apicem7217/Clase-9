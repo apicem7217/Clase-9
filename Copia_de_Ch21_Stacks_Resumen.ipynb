{
  "cells": [
    {
      "cell_type": "markdown",
      "metadata": {
        "id": "view-in-github",
        "colab_type": "text"
      },
      "source": [
        "<a href=\"https://colab.research.google.com/github/apicem7217/Clase-9/blob/Phyton/Copia_de_Ch21_Stacks_Resumen.ipynb\" target=\"_parent\"><img src=\"https://colab.research.google.com/assets/colab-badge.svg\" alt=\"Open In Colab\"/></a>"
      ]
    },
    {
      "cell_type": "markdown",
      "metadata": {
        "id": "4kqX2WrxT8rs"
      },
      "source": [
        "# Stacks\n",
        "\n",
        "http://openbookproject.net/thinkcs/python/english3e/stacks.html\n",
        "\n",
        "- Adaptadores de contenedor o tipo de datos abstractos (ADT) que pueden usar listas o listas vinculadas como contenedores para almacenar datos.\n",
        "- Diseñado específicamente para operar como una estructura de datos LIFO (last-in-first-out) o FILO (first-in-last-out), el último elemento agregado es el primero en ser eliminado\n",
        "alternativa incorporada:\n",
        "    \n",
        "## The Stack ADT\n",
        "- Un ADT se define por las operaciones que se pueden realizar en él, lo que se denomina interfaz.\n",
        "-La interfaz de la pila consta de las siguientes operaciones básicas:\n",
        "- **\\_\\_init\\_\\_ :** inicializa una nueva pila vacía\n",
        "- **\\_\\_len\\_\\_ :** devuelve la longitud/tamaño de la pila\n",
        "- **push :** agrega un nuevo elemento a la pila\n",
        "- **pop :** elimina y devuelve el último elemento que se agregó a la pila\n",
        "- **is_empty :** comprueba si la pila está vacía"
      ]
    },
    {
      "cell_type": "markdown",
      "metadata": {
        "id": "HUdCIKXBT8rx"
      },
      "source": [
        "## Implmentanción"
      ]
    },
    {
      "cell_type": "code",
      "execution_count": null,
      "metadata": {
        "id": "T9BIF4okT8rx"
      },
      "outputs": [],
      "source": [
        "class Stack:\n",
        "    def __init__(self):\n",
        "        self.items = []\n",
        "\n",
        "    def __len__(self):\n",
        "        return len(self.items)\n",
        "\n",
        "    def push(self, item):\n",
        "        self.items.append(item)\n",
        "\n",
        "    def pop(self):\n",
        "        \"\"\"El método pop() elimina y retorna un elemento de una lista,\n",
        "        del índice proprorcionado. Si no se especifica ningún índice,\n",
        "        a.pop() elimina y retorna el último elemento de la lista.\"\"\"\n",
        "        return self.items.pop()\n",
        "\n",
        "    def is_empty(self):\n",
        "        return len(self.items == 0)"
      ]
    },
    {
      "cell_type": "markdown",
      "metadata": {
        "id": "kgFzo2WbT8r0"
      },
      "source": [
        "## Applications of stack"
      ]
    },
    {
      "cell_type": "code",
      "execution_count": null,
      "metadata": {
        "id": "CHBt939bT8r1"
      },
      "outputs": [],
      "source": [
        "s = Stack()\n",
        "s.push(54)\n",
        "s.push(45)\n",
        "s.push('+')"
      ]
    },
    {
      "cell_type": "code",
      "source": [
        "s.items"
      ],
      "metadata": {
        "id": "N53l0glXdUOP"
      },
      "execution_count": null,
      "outputs": []
    },
    {
      "cell_type": "code",
      "source": [
        "s.pop()"
      ],
      "metadata": {
        "id": "qFew57wZd2iV"
      },
      "execution_count": null,
      "outputs": []
    },
    {
      "cell_type": "markdown",
      "metadata": {
        "id": "ygG5p5kBT8r1"
      },
      "source": [
        "## Pythontutor\n",
        "https://goo.gl/Q4wZaL"
      ]
    },
    {
      "cell_type": "markdown",
      "metadata": {
        "id": "MetSJTtaT8r3"
      },
      "source": [
        "## Usando stack para evaluar postfix notation\n",
        "- infix notation: 1 + 2\n",
        "- prefix notation: + 1 2\n",
        "- postfix notation: 1 2 +\n",
        "\n",
        "**postfix notation:** Operador sigue a los operandos, no es necesario usar paréntesis para controlar el orden de las operaciones.\n",
        "\n",
        "Pasos del algoritmo:\n",
        "  1. comenzando desde el principio de la expresión, obtener un token (operador u operando) a la vez:\n",
        "\n",
        "    a. si el término es un operando, empújelo en la pila\n",
        "\n",
        "    b. si el término es un operador, extraiga dos operandos de la pila, realice la operación en ellos y vuelva a colocar el resultado en la pila\n",
        "\n",
        "  2. Cuando llegue al final de la expresión, debería quedar exactamente un operando en la pila, el resultado."
      ]
    },
    {
      "cell_type": "code",
      "execution_count": null,
      "metadata": {
        "id": "UjlEHFhaT8r4"
      },
      "outputs": [],
      "source": [
        "# given a postfix notation such as: 56 47 + 2 *, the following function evaluates the result using Stack ADT\n",
        "def eval_postfix(expr):\n",
        "    tokens = expr.split()\n",
        "    stack = Stack()\n",
        "    for token in tokens:\n",
        "        token = token.strip()\n",
        "        if not token:\n",
        "          continue\n",
        "        if token == '+':\n",
        "            s = stack.pop() + stack.pop()\n",
        "            stack.push(s)\n",
        "        elif token == '*':\n",
        "            prod = stack.pop() * stack.pop()\n",
        "            stack.push(prod)\n",
        "        # /, and - are left as exercise\n",
        "        else:\n",
        "            stack.push(int(token))\n",
        "\n",
        "    return stack.pop()"
      ]
    },
    {
      "cell_type": "code",
      "source": [
        "expr = '56 47 + 2 *'\n",
        "tokens = expr.split()\n",
        "for token in tokens:\n",
        "  print(token)"
      ],
      "metadata": {
        "id": "dep3zbhkfRkX"
      },
      "execution_count": null,
      "outputs": []
    },
    {
      "cell_type": "code",
      "execution_count": null,
      "metadata": {
        "id": "6EBYqH98T8r5"
      },
      "outputs": [],
      "source": [
        "print(eval_postfix('56 47 + 2 *'))"
      ]
    },
    {
      "cell_type": "code",
      "execution_count": null,
      "metadata": {
        "id": "I7MsrigwT8r5"
      },
      "outputs": [],
      "source": [
        "# which is same as: (56 + 47) * 2 in infix notation\n",
        "eval('(56 + 47) * 2')"
      ]
    },
    {
      "cell_type": "code",
      "execution_count": null,
      "metadata": {
        "id": "gMbW6pYZT8r6"
      },
      "outputs": [],
      "source": []
    }
  ],
  "metadata": {
    "kernelspec": {
      "display_name": "Python 3",
      "language": "python",
      "name": "python3"
    },
    "language_info": {
      "codemirror_mode": {
        "name": "ipython",
        "version": 3
      },
      "file_extension": ".py",
      "mimetype": "text/x-python",
      "name": "python",
      "nbconvert_exporter": "python",
      "pygments_lexer": "ipython3",
      "version": "3.7.3"
    },
    "colab": {
      "provenance": [],
      "include_colab_link": true
    }
  },
  "nbformat": 4,
  "nbformat_minor": 0
}