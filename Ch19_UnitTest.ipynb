{
  "cells": [
    {
      "cell_type": "markdown",
      "metadata": {
        "id": "view-in-github",
        "colab_type": "text"
      },
      "source": [
        "<a href=\"https://colab.research.google.com/github/apicem7217/Clase-9/blob/Phyton/Ch19_UnitTest.ipynb\" target=\"_parent\"><img src=\"https://colab.research.google.com/assets/colab-badge.svg\" alt=\"Open In Colab\"/></a>"
      ]
    },
    {
      "cell_type": "markdown",
      "metadata": {
        "id": "t5EjIPdJJwdy"
      },
      "source": [
        "<a href=\"https://colab.research.google.com/github/rambasnet/FDSPython-Notebooks/blob/master/Ch19-UnitTest.ipynb\" target=\"_parent\"><img src=\"https://colab.research.google.com/assets/colab-badge.svg\" alt=\"Abrir en Colab\"/></a>\n",
        "\n",
        "## Temas\n",
        "- examen de la unidad\n",
        "- desarrollo basado en pruebas\n",
        "- doctest\n",
        "\n",
        "## 19.1 Prueba\n",
        "- Los codificadores/ingenieros de software dedican tanto tiempo a depurar y probar sus códigos como a desarrollar/escribir los códigos.\n",
        "- \"Errar es humano, pero preservar en el error es diabólico\". - anónimo\n",
        "    - este proverbio de más de dos mil años encaja con la codificación\n",
        "- \"¡Las pruebas de programas se pueden usar para mostrar la presencia de errores, pero nunca para mostrar su ausencia!\" -Edsger W. Dijkstra\n",
        "- la cobertura de código se utiliza para medir el grado en que se ejecuta el código fuente de un programa cuando se ejecuta un conjunto de pruebas en particular\n",
        "- varios criterios de cobertura:\n",
        "    - cobertura de funciones\n",
        "    - cobertura de declaraciones\n",
        "    - cobertura de sucursales\n",
        "    - cobertura de condición\n",
        "    - cobertura de bucle\n",
        "    - cobertura de flujo de datos\n",
        "    - cobertura de entrada/salida de función\n",
        "- la cobertura de ruta completa suele ser poco práctica o imposible\n",
        "    - el módulo con una sucesión de $n$ decisión puede tener hasta $2^n$ caminos\n",
        "    - los bucles pueden dar como resultado un número infinito de caminos\n",
        "- consulte este repositorio para obtener más ejemplos de pruebas unitarias: https://github.com/rambasnet/KattisDemos"
      ]
    },
    {
      "cell_type": "markdown",
      "metadata": {
        "id": "-qKlsHw_Jwdz"
      },
      "source": [
        "## 19.2 Test-driven development\n",
        "- write test cases before or simultaneously along with the code implementation\n",
        "- 3 simple ways to test your code natively at the functional level\n",
        "    1. assert statements - natively supported in many languages; as we've used before\n",
        "    2. doctest - simple, interactive technique, but makes the source code look messy, as they're defined inside the same function and module\n",
        "    3. unittest - preferred; separates the code with test"
      ]
    },
    {
      "cell_type": "markdown",
      "metadata": {
        "id": "G_Tjdsz4Jwd0"
      },
      "source": [
        "\n",
        "## 19.3 prueba de documento\n",
        "- https://docs.python.org/3/library/doctest.html\n",
        "- para verificar que las cadenas de documentación de un módulo estén actualizadas verificando que todos los ejemplos interactivos aún funcionen según lo documentado.\n",
        "- para realizar pruebas de regresión al verificar que los ejemplos interactivos de un archivo de prueba o un objeto de prueba funcionan como se esperaba.\n",
        "- escribir documentación tutorial para un paquete, ilustrada generosamente con ejemplos de entrada y salida. Dependiendo de si se enfatizan los ejemplos o el texto expositivo, esto tiene el sabor de \"prueba de alfabetización\" o \"documentación ejecutable\"."
      ]
    },
    {
      "cell_type": "markdown",
      "metadata": {
        "id": "FhRCB4zrJwd0"
      },
      "source": [
        "\n",
        "## vea factorial.py en el paquete de utilidades para ver un ejemplo de doctest"
      ]
    },
    {
      "cell_type": "markdown",
      "metadata": {
        "id": "71QY_MxhJwd0"
      },
      "source": [
        "## 19.4 prueba unitaria\n",
        "- https://docs.python.org/dev/library/unittest.html#module-unittest\n",
        "\n",
        "### vea fib_unittest.py en el paquete de utilidades para ver un ejemplo de prueba unitaria"
      ]
    },
    {
      "cell_type": "markdown",
      "metadata": {
        "id": "S2eqqxDkJwd0"
      },
      "source": [
        "## 19.5 Ejercicio opcional\n",
        "\n",
        "Escriba unittest para probar funciones en el módulo utility/factorial.py."
      ]
    },
    {
      "cell_type": "code",
      "execution_count": null,
      "metadata": {
        "collapsed": true,
        "id": "R3ecE83aJwd0"
      },
      "outputs": [],
      "source": []
    }
  ],
  "metadata": {
    "kernelspec": {
      "display_name": "Python 3",
      "language": "python",
      "name": "python3"
    },
    "language_info": {
      "codemirror_mode": {
        "name": "ipython",
        "version": 3
      },
      "file_extension": ".py",
      "mimetype": "text/x-python",
      "name": "python",
      "nbconvert_exporter": "python",
      "pygments_lexer": "ipython3",
      "version": "3.7.3"
    },
    "colab": {
      "provenance": [],
      "include_colab_link": true
    }
  },
  "nbformat": 4,
  "nbformat_minor": 0
}