{
  "cells": [
    {
      "cell_type": "markdown",
      "metadata": {
        "id": "view-in-github",
        "colab_type": "text"
      },
      "source": [
        "<a href=\"https://colab.research.google.com/github/apicem7217/Clase-9/blob/Phyton/Ch16_Exceptions.ipynb\" target=\"_parent\"><img src=\"https://colab.research.google.com/assets/colab-badge.svg\" alt=\"Open In Colab\"/></a>"
      ]
    },
    {
      "cell_type": "markdown",
      "metadata": {
        "id": "yh8nABHj6PM5"
      },
      "source": [
        "# Excepciones\n",
        "<a href=\"https://colab.research.google.com/github/rambasnet/FDSPython-Notebooks/blob/master/Ch16-Exceptions.ipynb\" target=\"_parent\"><img src=\"https://colab.research.google.com/assets/colab-badge.svg\" alt=\"Abrir en Colab\"/></a>\n",
        "\n",
        "\n",
        "http://openbookproject.net/thinkcs/python/english3e/exceptions.html\n",
        "- lidiar con errores es una parte normal de la programación\n",
        "- la depuración es una habilidad de programación muy útil\n",
        "\n",
        "## categoría de errores\n",
        "- errores de sintaxis\n",
        "- errores lógicos/semánticos\n",
        "- errores/excepciones en tiempo de ejecución"
      ]
    },
    {
      "cell_type": "markdown",
      "metadata": {
        "id": "p0t51QVc6PM8"
      },
      "source": [
        "## exceptions\n",
        "- when runtime error occurs, it creats an exception object\n",
        "- program halts; Python prints out the traceback with error message\n",
        "- https://docs.python.org/3/tutorial/errors.html"
      ]
    },
    {
      "cell_type": "code",
      "execution_count": null,
      "metadata": {
        "id": "oqDXZNAN6PM8",
        "outputId": "7cf15fb3-217e-44da-b149-65e22f4e0af0"
      },
      "outputs": [
        {
          "ename": "ZeroDivisionError",
          "evalue": "division by zero",
          "output_type": "error",
          "traceback": [
            "\u001b[0;31m---------------------------------------------------------------------------\u001b[0m",
            "\u001b[0;31mZeroDivisionError\u001b[0m                         Traceback (most recent call last)",
            "\u001b[0;32m<ipython-input-1-ef255b193978>\u001b[0m in \u001b[0;36m<module>\u001b[0;34m()\u001b[0m\n\u001b[0;32m----> 1\u001b[0;31m \u001b[0mprint\u001b[0m\u001b[0;34m(\u001b[0m\u001b[0;36m55\u001b[0m\u001b[0;34m/\u001b[0m\u001b[0;36m0\u001b[0m\u001b[0;34m)\u001b[0m\u001b[0;34m\u001b[0m\u001b[0m\n\u001b[0m",
            "\u001b[0;31mZeroDivisionError\u001b[0m: division by zero"
          ]
        }
      ],
      "source": [
        "print(55/0)"
      ]
    },
    {
      "cell_type": "code",
      "execution_count": null,
      "metadata": {
        "id": "uTEAnh576PM-",
        "outputId": "71719a63-76aa-4975-bbe1-6ea59c1cb8e0"
      },
      "outputs": [
        {
          "ename": "IndexError",
          "evalue": "list index out of range",
          "output_type": "error",
          "traceback": [
            "\u001b[0;31m---------------------------------------------------------------------------\u001b[0m",
            "\u001b[0;31mIndexError\u001b[0m                                Traceback (most recent call last)",
            "\u001b[0;32m<ipython-input-2-d994a3a20fe2>\u001b[0m in \u001b[0;36m<module>\u001b[0;34m()\u001b[0m\n\u001b[1;32m      1\u001b[0m \u001b[0malist\u001b[0m \u001b[0;34m=\u001b[0m \u001b[0;34m[\u001b[0m\u001b[0;34m]\u001b[0m\u001b[0;34m\u001b[0m\u001b[0m\n\u001b[0;32m----> 2\u001b[0;31m \u001b[0mprint\u001b[0m\u001b[0;34m(\u001b[0m\u001b[0malist\u001b[0m\u001b[0;34m[\u001b[0m\u001b[0;36m0\u001b[0m\u001b[0;34m]\u001b[0m\u001b[0;34m)\u001b[0m\u001b[0;34m\u001b[0m\u001b[0m\n\u001b[0m",
            "\u001b[0;31mIndexError\u001b[0m: list index out of range"
          ]
        }
      ],
      "source": [
        "alist = []\n",
        "print(alist[0])"
      ]
    },
    {
      "cell_type": "code",
      "execution_count": null,
      "metadata": {
        "id": "C-8jaTVh6PM_",
        "outputId": "b93eac4e-ec55-42b5-e4d4-824cfb478eda"
      },
      "outputs": [
        {
          "ename": "TypeError",
          "evalue": "'tuple' object does not support item assignment",
          "output_type": "error",
          "traceback": [
            "\u001b[0;31m---------------------------------------------------------------------------\u001b[0m",
            "\u001b[0;31mTypeError\u001b[0m                                 Traceback (most recent call last)",
            "\u001b[0;32m<ipython-input-3-8aeda75553d6>\u001b[0m in \u001b[0;36m<module>\u001b[0;34m()\u001b[0m\n\u001b[1;32m      1\u001b[0m \u001b[0matup\u001b[0m \u001b[0;34m=\u001b[0m \u001b[0;34m(\u001b[0m\u001b[0;34m'a'\u001b[0m\u001b[0;34m,\u001b[0m \u001b[0;34m'b'\u001b[0m\u001b[0;34m,\u001b[0m \u001b[0;34m'c'\u001b[0m\u001b[0;34m)\u001b[0m\u001b[0;34m\u001b[0m\u001b[0m\n\u001b[0;32m----> 2\u001b[0;31m \u001b[0matup\u001b[0m\u001b[0;34m[\u001b[0m\u001b[0;36m0\u001b[0m\u001b[0;34m]\u001b[0m \u001b[0;34m=\u001b[0m \u001b[0;34m'A'\u001b[0m\u001b[0;34m\u001b[0m\u001b[0m\n\u001b[0m",
            "\u001b[0;31mTypeError\u001b[0m: 'tuple' object does not support item assignment"
          ]
        }
      ],
      "source": [
        "atup = ('a', 'b', 'c')\n",
        "atup[0] = 'A'"
      ]
    },
    {
      "cell_type": "markdown",
      "metadata": {
        "id": "Ot_XvVbc6PM_"
      },
      "source": [
        "- each exception has two parts- Name: description"
      ]
    },
    {
      "cell_type": "markdown",
      "metadata": {
        "id": "wZb87Z0D6PM_"
      },
      "source": [
        "## catching exceptions\n",
        "- use try and except blocks\n",
        "- try statement has several separate clauses/parts\n",
        "<pre>\n",
        "    try:\n",
        "        # statement(s) thay may potentially throw(s) exception\n",
        "    except ExceptionName1:\n",
        "        # catch specific exception ExceptionName1\n",
        "        # statement(s) to handle the exception\n",
        "    [except ExceptionName2 as err:\n",
        "        # statements\n",
        "    ]\n",
        "    [except:\n",
        "        # catch any error not caught by previous except blocks\n",
        "    ]\n",
        "    [else:\n",
        "        # follows all except clause\n",
        "        # executes if try clause does NOT raise an exception\n",
        "    ]\n",
        "    [finally:\n",
        "        # clean-up actions that must be executed under all circumstances;\n",
        "        # exectued on the way out when try block is left via a break, continue, or return statement\n",
        "    ]\n",
        "</pre>\n",
        "- <em>[ ] optional </em>"
      ]
    },
    {
      "cell_type": "markdown",
      "metadata": {
        "id": "Ed0ifZR96PM_"
      },
      "source": [
        "### example 1"
      ]
    },
    {
      "cell_type": "code",
      "execution_count": null,
      "metadata": {
        "id": "t0B8fR2l6PNA",
        "outputId": "89b7fd89-be35-4987-8287-a154824db0fc"
      },
      "outputs": [
        {
          "name": "stdout",
          "output_type": "stream",
          "text": [
            "Enter dividend: 10\n",
            "Enter divisor: 2\n",
            "quotient= 5.0\n",
            "remainder= 0\n",
            "executing finally clause\n"
          ]
        }
      ],
      "source": [
        "try:\n",
        "    x = int(input(\"Enter dividend: \"))\n",
        "    y = int(input(\"Enter divisor: \"))\n",
        "    quotient = x/y\n",
        "    remainder = x%y\n",
        "except ZeroDivisionError as ex:\n",
        "    print('Exception occured:', ex)\n",
        "    print('arguments:', ex.args)\n",
        "except:\n",
        "    print('Some exception occured...')\n",
        "else:\n",
        "    print(\"quotient=\", quotient)\n",
        "    print(\"remainder=\", remainder)\n",
        "finally:\n",
        "    print(\"executing finally clause\")"
      ]
    },
    {
      "cell_type": "code",
      "execution_count": null,
      "metadata": {
        "collapsed": true,
        "id": "abyO_xyK6PNA"
      },
      "outputs": [],
      "source": []
    },
    {
      "cell_type": "markdown",
      "metadata": {
        "id": "bLgIZkv_6PNA"
      },
      "source": [
        "### example 2\n",
        "- input validation"
      ]
    },
    {
      "cell_type": "code",
      "execution_count": null,
      "metadata": {
        "id": "IIJ0-Aab6PNA",
        "outputId": "bb6ec4c8-a965-4888-f7a7-da04a97a5319"
      },
      "outputs": [
        {
          "name": "stdout",
          "output_type": "stream",
          "text": [
            "Please enter a number: f\n",
            "Oops! That was not a valid number. Try again...\n",
            "Please enter a number: dsaf\n",
            "Oops! That was not a valid number. Try again...\n",
            "Please enter a number: adsf\n",
            "Oops! That was not a valid number. Try again...\n",
            "Please enter a number: asdf\n",
            "Oops! That was not a valid number. Try again...\n",
            "Please enter a number: 10\n"
          ]
        }
      ],
      "source": [
        "while True:\n",
        "    try:\n",
        "        x = int(input(\"Please enter a number: \"))\n",
        "        break\n",
        "    except ValueError:\n",
        "        print(\"Oops! That was not a valid number. Try again...\")"
      ]
    },
    {
      "cell_type": "markdown",
      "metadata": {
        "id": "NamvgaRm6PNA"
      },
      "source": [
        "## raising exceptions\n",
        " - raise statement allows programer to throw their own exceptions"
      ]
    },
    {
      "cell_type": "markdown",
      "metadata": {
        "id": "MTttDP1f6PNB"
      },
      "source": [
        "### example 1"
      ]
    },
    {
      "cell_type": "code",
      "execution_count": null,
      "metadata": {
        "id": "7v0q2UU76PNB",
        "outputId": "76988325-f0f3-4093-8467-0ce39450b5d4"
      },
      "outputs": [
        {
          "ename": "NameError",
          "evalue": "MyException",
          "output_type": "error",
          "traceback": [
            "\u001b[0;31m---------------------------------------------------------------------------\u001b[0m",
            "\u001b[0;31mNameError\u001b[0m                                 Traceback (most recent call last)",
            "\u001b[0;32m<ipython-input-8-290333e3086c>\u001b[0m in \u001b[0;36m<module>\u001b[0;34m()\u001b[0m\n\u001b[0;32m----> 1\u001b[0;31m \u001b[0;32mraise\u001b[0m \u001b[0mNameError\u001b[0m\u001b[0;34m(\u001b[0m\u001b[0;34m\"MyException\"\u001b[0m\u001b[0;34m)\u001b[0m\u001b[0;34m\u001b[0m\u001b[0m\n\u001b[0m",
            "\u001b[0;31mNameError\u001b[0m: MyException"
          ]
        }
      ],
      "source": [
        "raise NameError(\"MyException\")"
      ]
    },
    {
      "cell_type": "code",
      "execution_count": null,
      "metadata": {
        "id": "9sJUmx0Y6PNB",
        "outputId": "b8e6a9cf-737f-4aad-a2c8-17accf1766ee"
      },
      "outputs": [
        {
          "name": "stdout",
          "output_type": "stream",
          "text": [
            "An exception flew by...\n"
          ]
        },
        {
          "ename": "NameError",
          "evalue": "My Exception",
          "output_type": "error",
          "traceback": [
            "\u001b[0;31m---------------------------------------------------------------------------\u001b[0m",
            "\u001b[0;31mNameError\u001b[0m                                 Traceback (most recent call last)",
            "\u001b[0;32m<ipython-input-9-9b6ca7775e88>\u001b[0m in \u001b[0;36m<module>\u001b[0;34m()\u001b[0m\n\u001b[1;32m      1\u001b[0m \u001b[0;32mtry\u001b[0m\u001b[0;34m:\u001b[0m\u001b[0;34m\u001b[0m\u001b[0m\n\u001b[0;32m----> 2\u001b[0;31m     \u001b[0;32mraise\u001b[0m \u001b[0mNameError\u001b[0m\u001b[0;34m(\u001b[0m\u001b[0;34m'My Exception'\u001b[0m\u001b[0;34m)\u001b[0m\u001b[0;34m\u001b[0m\u001b[0m\n\u001b[0m\u001b[1;32m      3\u001b[0m \u001b[0;32mexcept\u001b[0m \u001b[0mNameError\u001b[0m\u001b[0;34m:\u001b[0m\u001b[0;34m\u001b[0m\u001b[0m\n\u001b[1;32m      4\u001b[0m     \u001b[0mprint\u001b[0m\u001b[0;34m(\u001b[0m\u001b[0;34m'An exception flew by...'\u001b[0m\u001b[0;34m)\u001b[0m\u001b[0;34m\u001b[0m\u001b[0m\n\u001b[1;32m      5\u001b[0m     \u001b[0;32mraise\u001b[0m\u001b[0;34m\u001b[0m\u001b[0m\n",
            "\u001b[0;31mNameError\u001b[0m: My Exception"
          ]
        }
      ],
      "source": [
        "try:\n",
        "    raise NameError('My Exception')\n",
        "except NameError:\n",
        "    print('An exception flew by...')\n",
        "    raise"
      ]
    },
    {
      "cell_type": "markdown",
      "metadata": {
        "id": "45Bw-F476PNB"
      },
      "source": [
        "## user-defined exceptions\n",
        "- one can define their own exceptions and raise them as needed\n",
        "- should typically derive from the Exception class, either directly or indirectly\n",
        "\n",
        "### example 1"
      ]
    },
    {
      "cell_type": "code",
      "execution_count": null,
      "metadata": {
        "collapsed": true,
        "id": "9ayLJZ0X6PNB"
      },
      "outputs": [],
      "source": [
        "class InputError(Exception):\n",
        "    \"\"\"\n",
        "    Exception raised for errors in the input.\n",
        "\n",
        "    Attributes:\n",
        "    expression -- input expression in which the error occured\n",
        "    message -- explaination of the error\n",
        "    \"\"\"\n",
        "    def __init__(self, expression, message):\n",
        "        self.expression = expression\n",
        "        self.message = message\n"
      ]
    },
    {
      "cell_type": "code",
      "execution_count": null,
      "metadata": {
        "id": "1PljAj4H6PNB",
        "outputId": "1d4d60b2-84e5-448e-fb10-e29ab286034a"
      },
      "outputs": [
        {
          "name": "stdout",
          "output_type": "stream",
          "text": [
            "Help on class InputError in module __main__:\n",
            "\n",
            "class InputError(builtins.Exception)\n",
            " |  Exception raised for errors in the input.\n",
            " |  \n",
            " |  Attributes:\n",
            " |  expression -- input expression in which the error occured\n",
            " |  message -- explaination of the error\n",
            " |  \n",
            " |  Method resolution order:\n",
            " |      InputError\n",
            " |      builtins.Exception\n",
            " |      builtins.BaseException\n",
            " |      builtins.object\n",
            " |  \n",
            " |  Methods defined here:\n",
            " |  \n",
            " |  __init__(self, expression, message)\n",
            " |      Initialize self.  See help(type(self)) for accurate signature.\n",
            " |  \n",
            " |  ----------------------------------------------------------------------\n",
            " |  Data descriptors defined here:\n",
            " |  \n",
            " |  __weakref__\n",
            " |      list of weak references to the object (if defined)\n",
            " |  \n",
            " |  ----------------------------------------------------------------------\n",
            " |  Methods inherited from builtins.Exception:\n",
            " |  \n",
            " |  __new__(*args, **kwargs) from builtins.type\n",
            " |      Create and return a new object.  See help(type) for accurate signature.\n",
            " |  \n",
            " |  ----------------------------------------------------------------------\n",
            " |  Methods inherited from builtins.BaseException:\n",
            " |  \n",
            " |  __delattr__(self, name, /)\n",
            " |      Implement delattr(self, name).\n",
            " |  \n",
            " |  __getattribute__(self, name, /)\n",
            " |      Return getattr(self, name).\n",
            " |  \n",
            " |  __reduce__(...)\n",
            " |      helper for pickle\n",
            " |  \n",
            " |  __repr__(self, /)\n",
            " |      Return repr(self).\n",
            " |  \n",
            " |  __setattr__(self, name, value, /)\n",
            " |      Implement setattr(self, name, value).\n",
            " |  \n",
            " |  __setstate__(...)\n",
            " |  \n",
            " |  __str__(self, /)\n",
            " |      Return str(self).\n",
            " |  \n",
            " |  with_traceback(...)\n",
            " |      Exception.with_traceback(tb) --\n",
            " |      set self.__traceback__ to tb and return self.\n",
            " |  \n",
            " |  ----------------------------------------------------------------------\n",
            " |  Data descriptors inherited from builtins.BaseException:\n",
            " |  \n",
            " |  __cause__\n",
            " |      exception cause\n",
            " |  \n",
            " |  __context__\n",
            " |      exception context\n",
            " |  \n",
            " |  __dict__\n",
            " |  \n",
            " |  __suppress_context__\n",
            " |  \n",
            " |  __traceback__\n",
            " |  \n",
            " |  args\n",
            "\n"
          ]
        }
      ],
      "source": [
        "help(InputError)"
      ]
    },
    {
      "cell_type": "code",
      "execution_count": null,
      "metadata": {
        "id": "OJQrs1tf6PNC"
      },
      "outputs": [],
      "source": [
        "def getInteger():\n",
        "    x = input('Enter an integer number: ')\n",
        "    if not x.isdigit():\n",
        "        raise InputError(x, 'That is not an integer!')\n",
        "    return int(x)"
      ]
    },
    {
      "cell_type": "code",
      "execution_count": null,
      "metadata": {
        "id": "QqglF4LH6PNC",
        "outputId": "ceaabef3-28bd-41cd-9184-21598f4b5df5"
      },
      "outputs": [
        {
          "name": "stdout",
          "output_type": "stream",
          "text": [
            "Enter an integer number: dsaf\n"
          ]
        },
        {
          "ename": "InputError",
          "evalue": "('dsaf', 'That is not an integer!')",
          "output_type": "error",
          "traceback": [
            "\u001b[0;31m---------------------------------------------------------------------------\u001b[0m",
            "\u001b[0;31mInputError\u001b[0m                                Traceback (most recent call last)",
            "\u001b[0;32m<ipython-input-15-f90a077ee9cc>\u001b[0m in \u001b[0;36m<module>\u001b[0;34m()\u001b[0m\n\u001b[0;32m----> 1\u001b[0;31m \u001b[0mx\u001b[0m \u001b[0;34m=\u001b[0m \u001b[0mgetInteger\u001b[0m\u001b[0;34m(\u001b[0m\u001b[0;34m)\u001b[0m\u001b[0;34m\u001b[0m\u001b[0m\n\u001b[0m\u001b[1;32m      2\u001b[0m \u001b[0mprint\u001b[0m\u001b[0;34m(\u001b[0m\u001b[0mx\u001b[0m\u001b[0;34m)\u001b[0m\u001b[0;34m\u001b[0m\u001b[0m\n",
            "\u001b[0;32m<ipython-input-14-6a80b90df6da>\u001b[0m in \u001b[0;36mgetInteger\u001b[0;34m()\u001b[0m\n\u001b[1;32m      2\u001b[0m     \u001b[0mx\u001b[0m \u001b[0;34m=\u001b[0m \u001b[0minput\u001b[0m\u001b[0;34m(\u001b[0m\u001b[0;34m'Enter an integer number: '\u001b[0m\u001b[0;34m)\u001b[0m\u001b[0;34m\u001b[0m\u001b[0m\n\u001b[1;32m      3\u001b[0m     \u001b[0;32mif\u001b[0m \u001b[0;32mnot\u001b[0m \u001b[0mx\u001b[0m\u001b[0;34m.\u001b[0m\u001b[0misdigit\u001b[0m\u001b[0;34m(\u001b[0m\u001b[0;34m)\u001b[0m\u001b[0;34m:\u001b[0m\u001b[0;34m\u001b[0m\u001b[0m\n\u001b[0;32m----> 4\u001b[0;31m         \u001b[0;32mraise\u001b[0m \u001b[0mInputError\u001b[0m\u001b[0;34m(\u001b[0m\u001b[0mx\u001b[0m\u001b[0;34m,\u001b[0m \u001b[0;34m'That is not an integer!'\u001b[0m\u001b[0;34m)\u001b[0m\u001b[0;34m\u001b[0m\u001b[0m\n\u001b[0m\u001b[1;32m      5\u001b[0m     \u001b[0;32mreturn\u001b[0m \u001b[0mint\u001b[0m\u001b[0;34m(\u001b[0m\u001b[0mx\u001b[0m\u001b[0;34m)\u001b[0m\u001b[0;34m\u001b[0m\u001b[0m\n",
            "\u001b[0;31mInputError\u001b[0m: ('dsaf', 'That is not an integer!')"
          ]
        }
      ],
      "source": [
        "x = getInteger()\n",
        "print(x)"
      ]
    },
    {
      "cell_type": "markdown",
      "metadata": {
        "collapsed": true,
        "id": "XLm5fXHU6PNC"
      },
      "source": [
        "## catch user-defined exception"
      ]
    },
    {
      "cell_type": "code",
      "execution_count": null,
      "metadata": {
        "id": "CYsmm_AA6PNC",
        "outputId": "cddfab30-682a-444d-d907-c81e211d8dd4"
      },
      "outputs": [
        {
          "name": "stdout",
          "output_type": "stream",
          "text": [
            "Enter an integer number: 10\n",
            "10^2 = 100\n"
          ]
        }
      ],
      "source": [
        "try:\n",
        "    x = getInteger() #may throw InputError\n",
        "except InputError as ie:\n",
        "    print('Exception:', ie)\n",
        "    # can throw ie again\n",
        "else:\n",
        "    print('{}^2 = {}'.format(x, x**2))"
      ]
    }
  ],
  "metadata": {
    "kernelspec": {
      "display_name": "Python 3",
      "language": "python",
      "name": "python3"
    },
    "language_info": {
      "codemirror_mode": {
        "name": "ipython",
        "version": 3
      },
      "file_extension": ".py",
      "mimetype": "text/x-python",
      "name": "python",
      "nbconvert_exporter": "python",
      "pygments_lexer": "ipython3",
      "version": "3.7.3"
    },
    "colab": {
      "provenance": [],
      "include_colab_link": true
    }
  },
  "nbformat": 4,
  "nbformat_minor": 0
}