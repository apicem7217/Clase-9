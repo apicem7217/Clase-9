{
  "cells": [
    {
      "cell_type": "markdown",
      "metadata": {
        "id": "view-in-github",
        "colab_type": "text"
      },
      "source": [
        "<a href=\"https://colab.research.google.com/github/apicem7217/Clase-9/blob/Phyton/Ch15_Overloading_Polymorphism.ipynb\" target=\"_parent\"><img src=\"https://colab.research.google.com/assets/colab-badge.svg\" alt=\"Open In Colab\"/></a>"
      ]
    },
    {
      "cell_type": "markdown",
      "metadata": {
        "id": "VGJEl7Y-Hk-c"
      },
      "source": [
        "# Más programación orientada a objetos, sobrecarga de operadores y polimorfismo\n",
        "\n",
        "<a href=\"https://colab.research.google.com/github/rambasnet/FDSPython-Notebooks/blob/master/Ch15-Overloading-Polymorphism.ipynb\" target=\"_parent\"><img src=\"https://colab.research.google.com/assets/colab-badge.svg\" alt=\"Open In Colab\"/></a>\n",
        "\n",
        "\n",
        "http://openbookproject.net/thinkcs/python/english3e/even_more_oop.html\n",
        "\n",
        "## Mi tiempo\n",
        "- clase que registra la hora del día\n",
        "- proporcione el método __init__ para que cada instancia se cree con los atributos y la inicialización apropiados"
      ]
    },
    {
      "cell_type": "code",
      "execution_count": null,
      "metadata": {
        "id": "zXX4OnEbHk-e"
      },
      "outputs": [],
      "source": [
        "class MyTime:\n",
        "    \"\"\"MyTime class that keeps track of time of day\"\"\"\n",
        "    def __init__(self, hrs=0, mins=0, secs=0):\n",
        "        \"\"\" Creates a MyTime object initialized to hrs, mins, secs \"\"\"\n",
        "        self.hours = hrs\n",
        "        self.minutes = mins\n",
        "        self.seconds = secs\n",
        "\n",
        "    def __str__(self):\n",
        "        return \"{:02}:{:02}:{:02}\".format(self.hours, self.minutes, self.seconds)"
      ]
    },
    {
      "cell_type": "code",
      "execution_count": null,
      "metadata": {
        "id": "Nqdi-8DWHk-f"
      },
      "outputs": [],
      "source": [
        "tim1 = MyTime(11, 59, 3)"
      ]
    },
    {
      "cell_type": "code",
      "execution_count": null,
      "metadata": {
        "colab": {
          "base_uri": "https://localhost:8080/"
        },
        "id": "l5fAwt61Hk-f",
        "outputId": "139be9c3-a9e6-499c-edaa-0eb74df9fc08"
      },
      "outputs": [
        {
          "output_type": "stream",
          "name": "stdout",
          "text": [
            "11:59:03\n"
          ]
        }
      ],
      "source": [
        "print(tim1)"
      ]
    },
    {
      "cell_type": "markdown",
      "metadata": {
        "id": "oKiKPthMHk-f"
      },
      "source": [
        "## Functions can be pure and modifiers\n",
        "- what functions should be part of class of methods?\n",
        "- typically, all the rfunctions that operate on or use attributes of class should be part of the class called methods"
      ]
    },
    {
      "cell_type": "markdown",
      "metadata": {
        "id": "nhuHDg7GHk-g"
      },
      "source": [
        "## pure functions\n",
        "- pure functions do not have side effects, such as modifying parameters and global variables\n",
        "- similar to constant functions in C++ world\n",
        "- getter methods are pure functions\n",
        "- e.g.: see add_time()"
      ]
    },
    {
      "cell_type": "code",
      "execution_count": null,
      "metadata": {
        "id": "1RkXF219Hk-g"
      },
      "outputs": [],
      "source": [
        "def add_time(t1, t2):\n",
        "    h = t1.hours + t2.hours\n",
        "    m = t1.minutes + t2.minutes\n",
        "    s = t1.seconds + t2.seconds\n",
        "\n",
        "    while s >= 60:\n",
        "        s -= 60\n",
        "        m += 1\n",
        "\n",
        "    while m >= 60:\n",
        "        m -= 60\n",
        "        h += 1\n",
        "\n",
        "    sum_t = MyTime(h, m, s)\n",
        "    return sum_t"
      ]
    },
    {
      "cell_type": "code",
      "execution_count": null,
      "metadata": {
        "colab": {
          "base_uri": "https://localhost:8080/"
        },
        "id": "v1P8s9WEHk-g",
        "outputId": "27f56be0-15cf-4737-f808-ab3ae6919b37"
      },
      "outputs": [
        {
          "output_type": "stream",
          "name": "stdout",
          "text": [
            "12:26:05\n"
          ]
        }
      ],
      "source": [
        "current_time = MyTime(9, 50, 45)\n",
        "bread_time = MyTime(2, 35, 20)\n",
        "done_time = add_time(current_time, bread_time)\n",
        "print(done_time)"
      ]
    },
    {
      "cell_type": "markdown",
      "metadata": {
        "id": "kOH6YbL3Hk-g"
      },
      "source": [
        "## modifiers\n",
        "- functions that modify the object(s) it gets as parameter(s)\n",
        "- setter methods are modifiers"
      ]
    },
    {
      "cell_type": "code",
      "execution_count": null,
      "metadata": {
        "id": "27Ru6qglHk-g"
      },
      "outputs": [],
      "source": [
        "# function takes MyTime t and secs to update t\n",
        "def increment(myT, seconds):\n",
        "    myT.seconds += seconds\n",
        "    mins = myT.seconds//60\n",
        "\n",
        "    myT.seconds = myT.seconds%60\n",
        "    myT.minutes += mins\n",
        "\n",
        "    hours = myT.minutes//60\n",
        "    myT.hours += hours\n",
        "    myT.minutes = myT.minutes%60"
      ]
    },
    {
      "cell_type": "code",
      "execution_count": null,
      "metadata": {
        "colab": {
          "base_uri": "https://localhost:8080/"
        },
        "id": "ZVCFF9fUHk-g",
        "outputId": "03649154-5edd-4dab-8196-3b68bc6dd970"
      },
      "outputs": [
        {
          "output_type": "stream",
          "name": "stdout",
          "text": [
            "09:50:45\n"
          ]
        }
      ],
      "source": [
        "current_time = MyTime(9, 50, 45)\n",
        "print(current_time)"
      ]
    },
    {
      "cell_type": "code",
      "execution_count": null,
      "metadata": {
        "id": "dw4lRKX4Hk-g"
      },
      "outputs": [],
      "source": [
        "increment(current_time, 60*60)"
      ]
    },
    {
      "cell_type": "code",
      "execution_count": null,
      "metadata": {
        "colab": {
          "base_uri": "https://localhost:8080/"
        },
        "id": "mtG2gVr2Hk-g",
        "outputId": "a49650fc-1ff1-4306-82b4-45f271d7543c"
      },
      "outputs": [
        {
          "output_type": "stream",
          "name": "stdout",
          "text": [
            "10:50:45\n"
          ]
        }
      ],
      "source": [
        "print(current_time)"
      ]
    },
    {
      "cell_type": "markdown",
      "metadata": {
        "id": "HXhhdUQjHk-h"
      },
      "source": [
        "## Converting increment() to a method\n",
        "- OOD prefers that functions that work with objects to be part of the class or methods\n",
        "- increment can be a useful method for MyTime class"
      ]
    },
    {
      "cell_type": "code",
      "execution_count": null,
      "metadata": {
        "id": "xwEqexcbHk-h"
      },
      "outputs": [],
      "source": [
        "class MyTime:\n",
        "    def __init__(self, hrs=0, mins=0, secs=0):\n",
        "        \"\"\" Create a new MyTime object initialized to hrs, mins, secs.\n",
        "           The values of mins and secs may be outside the range 0-59,\n",
        "           but the resulting MyTime object will be normalized.\n",
        "        \"\"\"\n",
        "        self.hours = hrs\n",
        "        self.minutes = mins\n",
        "        self.seconds = secs\n",
        "\n",
        "        # Calculate total seconds to represent\n",
        "        self.__normalize()\n",
        "\n",
        "    def __str__(self):\n",
        "        return \"{:02}:{:02}:{:02}\".format(self.hours, self.minutes, self.seconds)\n",
        "\n",
        "    def to_seconds(self):\n",
        "        \"\"\" Return the number of seconds represented\n",
        "            by this instance\n",
        "        \"\"\"\n",
        "        return self.hours * 3600 + self.minutes * 60 + self.seconds\n",
        "\n",
        "    def increment(self, seconds):\n",
        "        self.seconds += seconds\n",
        "        self.__normalize()\n",
        "\n",
        "    # should be treated as private method\n",
        "    def __normalize(self):\n",
        "        totalsecs = self.to_seconds()\n",
        "        self.hours = totalsecs // 3600        # Split in h, m, s\n",
        "        leftoversecs = totalsecs % 3600\n",
        "        self.minutes = leftoversecs // 60\n",
        "        self.seconds = leftoversecs % 60"
      ]
    },
    {
      "cell_type": "code",
      "execution_count": null,
      "metadata": {
        "id": "ldpkMBxlHk-h"
      },
      "outputs": [],
      "source": [
        "# improved add_time function\n",
        "def add_time(t1, t2):\n",
        "    secs = t1.to_seconds() + t2.to_seconds()\n",
        "    return MyTime(0, 0, secs)"
      ]
    },
    {
      "cell_type": "code",
      "execution_count": null,
      "metadata": {
        "colab": {
          "base_uri": "https://localhost:8080/"
        },
        "id": "MoFelYRsHk-h",
        "outputId": "2fb6f896-6d07-4b65-dddb-b2fa2cb8126a"
      },
      "outputs": [
        {
          "output_type": "stream",
          "name": "stdout",
          "text": [
            "12:26:05\n"
          ]
        }
      ],
      "source": [
        "# test add_time function\n",
        "current_time = MyTime(9, 50, 45)\n",
        "bread_time = MyTime(2, 35, 20)\n",
        "done_time = add_time(current_time, bread_time)\n",
        "print(done_time)"
      ]
    },
    {
      "cell_type": "markdown",
      "metadata": {
        "id": "4pBc7NjCHk-h"
      },
      "source": [
        "### similarly, add_time can be moved inside MyTime class as a method"
      ]
    },
    {
      "cell_type": "code",
      "execution_count": null,
      "metadata": {
        "id": "3mLpVUXsHk-h"
      },
      "outputs": [],
      "source": [
        "class MyTime:\n",
        "    def __init__(self, hrs=0, mins=0, secs=0):\n",
        "        \"\"\" Create a new MyTime object initialized to hrs, mins, secs.\n",
        "           The values of mins and secs may be outside the range 0-59,\n",
        "           but the resulting MyTime object will be normalized.\n",
        "        \"\"\"\n",
        "        self.hours = hrs\n",
        "        self.minutes = mins\n",
        "        self.seconds = secs\n",
        "        # Calculate total seconds to represent\n",
        "        self.__normalize()\n",
        "\n",
        "    def __str__(self):\n",
        "        return \"{:02}:{:02}:{:02}\".format(self.hours, self.minutes, self.seconds)\n",
        "\n",
        "    def to_seconds(self):\n",
        "        \"\"\" Return the number of seconds represented\n",
        "            by this instance\n",
        "        \"\"\"\n",
        "        return self.hours * 3600 + self.minutes * 60 + self.seconds\n",
        "\n",
        "    def increment(self, secs):\n",
        "        self.seconds += secs\n",
        "        self.__normalize()\n",
        "\n",
        "    def __normalize(self):\n",
        "        totalsecs = self.to_seconds()\n",
        "        self.hours = totalsecs // 3600        # Split in h, m, s\n",
        "        leftoversecs = totalsecs % 3600\n",
        "        self.minutes = leftoversecs // 60\n",
        "        self.seconds = leftoversecs % 60\n",
        "\n",
        "    def add_time(self, other):\n",
        "        return MyTime(0, 0, self.to_seconds() + other.to_seconds())\n"
      ]
    },
    {
      "cell_type": "code",
      "execution_count": null,
      "metadata": {
        "colab": {
          "base_uri": "https://localhost:8080/"
        },
        "id": "29PAgRk8Hk-h",
        "outputId": "dd94b103-7c30-4b38-d341-51e13e1b799a"
      },
      "outputs": [
        {
          "output_type": "stream",
          "name": "stdout",
          "text": [
            "12:26:05\n"
          ]
        }
      ],
      "source": [
        "current_time = MyTime(9, 50, 45)\n",
        "bread_time = MyTime(2, 35, 20)\n",
        "done_time = current_time.add_time(bread_time)\n",
        "print(done_time)"
      ]
    },
    {
      "cell_type": "markdown",
      "metadata": {
        "id": "w2J0zMiaHk-h"
      },
      "source": [
        "## special methods / operator overloading\n",
        "- https://docs.python.org/3/reference/datamodel.html\n",
        "- how about t1 = t2 + t3 just like adding primitive types\n",
        "- \\+ operator appends two strings, but adds two integers or floats\n",
        "- the same operator has different meaning for different types called operator overloading\n",
        "- replace add_time with built-in special method __add__ to overload + operator"
      ]
    },
    {
      "cell_type": "code",
      "execution_count": null,
      "metadata": {
        "id": "YlHQsmWIHk-h"
      },
      "outputs": [],
      "source": [
        "class MyTime:\n",
        "\n",
        "    def __init__(self, hrs=0, mins=0, secs=0):\n",
        "        \"\"\" Create a new MyTime object initialized to hrs, mins, secs.\n",
        "           The values of mins and secs may be outside the range 0-59,\n",
        "           but the resulting MyTime object will be normalized.\n",
        "        \"\"\"\n",
        "        self.hours = hrs\n",
        "        self.minutes = mins\n",
        "        self.seconds = secs\n",
        "        # Calculate total seconds to represent\n",
        "        self.__normalize()\n",
        "\n",
        "    def __str__(self):\n",
        "        return \"{:02}:{:02}:{:02}\".format(self.hours, self.minutes, self.seconds)\n",
        "\n",
        "    def to_seconds(self):\n",
        "        \"\"\" Return the number of seconds represented\n",
        "            by this instance\n",
        "        \"\"\"\n",
        "        return self.hours * 3600 + self.minutes * 60 + self.seconds\n",
        "\n",
        "    def increment(self, secs):\n",
        "        self.seconds += secs\n",
        "        self.normalize()\n",
        "\n",
        "    def __normalize(self):\n",
        "        totalsecs = self.to_seconds()\n",
        "        self.hours = totalsecs // 3600        # Split in h, m, s\n",
        "        leftoversecs = totalsecs % 3600\n",
        "        self.minutes = leftoversecs // 60\n",
        "        self.seconds = leftoversecs % 60\n",
        "\n",
        "    def __add__(self, other):\n",
        "        return MyTime(0, 0, self.to_seconds() + other.to_seconds())"
      ]
    },
    {
      "cell_type": "code",
      "execution_count": null,
      "metadata": {
        "colab": {
          "base_uri": "https://localhost:8080/"
        },
        "id": "kcqRRpefHk-h",
        "outputId": "3bd6f5b9-f278-4fc7-9e94-dfede0dcb647"
      },
      "outputs": [
        {
          "output_type": "stream",
          "name": "stdout",
          "text": [
            "12:26:05\n"
          ]
        }
      ],
      "source": [
        "current_time = MyTime(9, 50, 45)\n",
        "bread_time = MyTime(2, 35, 20)\n",
        "done_time = current_time + bread_time # equivalent to: done_time = current_time.__add__(bread_time)\n",
        "print(done_time)"
      ]
    },
    {
      "cell_type": "markdown",
      "metadata": {
        "id": "6ryWq5o9Hk-h"
      },
      "source": [
        "## add two points\n",
        "- overloading our Point class to be able to add two points"
      ]
    },
    {
      "cell_type": "code",
      "execution_count": null,
      "metadata": {
        "id": "cz-JC-vkHk-i"
      },
      "outputs": [],
      "source": [
        "class Point:\n",
        "    \"\"\"\n",
        "    Point class represents and manipulates x,y coords\n",
        "    \"\"\"\n",
        "    count = 0\n",
        "\n",
        "    def __init__(self, xx=0, yy=0):\n",
        "        \"\"\"Create a new point with given x and y coords\"\"\"\n",
        "        self.x = xx\n",
        "        self.y = yy\n",
        "        Point.count += 1\n",
        "\n",
        "    def dist_from_origin(self):\n",
        "        import math\n",
        "        dist = math.sqrt(self.x**2+self.y**2)\n",
        "        return dist\n",
        "\n",
        "    def __str__(self):\n",
        "        return \"({}, {})\".format(self.x, self.y)\n",
        "\n",
        "    def move(self, xx, yy):\n",
        "        self.x = xx\n",
        "        self.y = yy\n",
        "\n",
        "    def __add__(self, other):\n",
        "        x = self.x + other.x\n",
        "        y = self.y + other.y\n",
        "        return Point(x, y)\n",
        "\n",
        "    def __mul__(self, other):\n",
        "        \"\"\"\n",
        "        computes dot product of two points\n",
        "        \"\"\"\n",
        "        return self.x * other.x + self.y * other.y\n",
        "\n",
        "    def __rmul__(self, other):\n",
        "        \"\"\"\n",
        "        if the left operand is primitive type (int or float)\n",
        "        and the right operand is a Point, Python invokes __rmul__\n",
        "        which performs scalar multiplication\n",
        "        \"\"\"\n",
        "        return Point(other * self.x, other * self.y)\n"
      ]
    },
    {
      "cell_type": "code",
      "execution_count": null,
      "metadata": {
        "colab": {
          "base_uri": "https://localhost:8080/"
        },
        "id": "i7Ey2FjtHk-i",
        "outputId": "36b2d385-a22d-479e-fb59-67e5a6811400"
      },
      "outputs": [
        {
          "output_type": "stream",
          "name": "stdout",
          "text": [
            "(12, 12)\n",
            "48\n",
            "(8, 8)\n"
          ]
        }
      ],
      "source": [
        "p1 = Point(2, 2)\n",
        "p2 = Point(10, 10)\n",
        "p3 = p1 + p2\n",
        "print(p3)\n",
        "print(p1 * p3)\n",
        "print(4 * p1)"
      ]
    },
    {
      "cell_type": "markdown",
      "metadata": {
        "id": "8XpEQW4DHk-i"
      },
      "source": [
        "## some special methods\n",
        "<pre>\n",
        "__del__(self)\n",
        "    - destructor - called when instance is about to be destroyed\n",
        "    \n",
        "__str__(self)\n",
        "   - called by str(object) and the built-in functions format() and print() to computer the \"informal\" or nicely printable string representation of an object.\n",
        "   - must return string object\n",
        "\n",
        "__lt__(self, other)\n",
        "    x &lt; y calls x.__lt__(y)\n",
        "\n",
        "__gt__(self, other)\n",
        "    x &gt; y calls x.__gt__(y)\n",
        "   \n",
        "__eq__(self, other)\n",
        "    x == y calls x.__eq__(y)\n",
        "\n",
        "__ne__(self, other)\n",
        "__ge__(self, other)\n",
        "__le__(self, other)\n",
        "\n",
        "Emulating numeric types:\n",
        "__add__(self, other)\n",
        "__sub__(self, other)\n",
        "__mul__(self, other)\n",
        "__mod__(self, other)\n",
        "__truediv__(self, other)\n",
        "__pow__(self, other)\n",
        "__xor__(self, other)\n",
        "__or__(self, other)\n",
        "__and__(self, other)\n",
        "</pre>"
      ]
    },
    {
      "cell_type": "markdown",
      "metadata": {
        "id": "igQoryhjHk-i"
      },
      "source": [
        "exercise 1: implement some relevant special methods for Point class and test them"
      ]
    },
    {
      "cell_type": "markdown",
      "metadata": {
        "id": "WCYnefa5Hk-i"
      },
      "source": [
        "exercise 2: implement some relevant special methods for Triangle class defined in previous chapter and test them"
      ]
    },
    {
      "cell_type": "markdown",
      "metadata": {
        "id": "-3s9PgjfHk-i"
      },
      "source": [
        "## Polymorphism\n",
        "- most methods work on a specific new class type we create\n",
        "- some methods we want to apply to many types, such as arithmetic operations + in previous example\n",
        "- e.g., multadd operation (common in linear algebra) takes 3 arguments, it multiplies the first two and then adds the third\n",
        "- function like this that can take arguments with different types is called polymorphic"
      ]
    },
    {
      "cell_type": "code",
      "execution_count": null,
      "metadata": {
        "id": "HIuZcPb_Hk-i"
      },
      "outputs": [],
      "source": [
        "def multadd(x, y, z):\n",
        "    return x * y + z"
      ]
    },
    {
      "cell_type": "code",
      "execution_count": null,
      "metadata": {
        "colab": {
          "base_uri": "https://localhost:8080/"
        },
        "id": "wIhL-uIYHk-i",
        "outputId": "7b69bf42-370b-402e-e153-7a519600e16e"
      },
      "outputs": [
        {
          "output_type": "execute_result",
          "data": {
            "text/plain": [
              "7"
            ]
          },
          "metadata": {},
          "execution_count": 20
        }
      ],
      "source": [
        "multadd(3, 2, 1)"
      ]
    },
    {
      "cell_type": "code",
      "execution_count": null,
      "metadata": {
        "colab": {
          "base_uri": "https://localhost:8080/"
        },
        "id": "e2gBDA64Hk-i",
        "outputId": "971c1ab2-bdab-4ac2-f767-1fcc43a57f0a"
      },
      "outputs": [
        {
          "output_type": "stream",
          "name": "stdout",
          "text": [
            "(11, 15)\n"
          ]
        }
      ],
      "source": [
        "p1 = Point(3, 4)\n",
        "p2 = Point(5, 7)\n",
        "print(multadd(2, p1, p2))"
      ]
    },
    {
      "cell_type": "code",
      "execution_count": null,
      "metadata": {
        "colab": {
          "base_uri": "https://localhost:8080/"
        },
        "id": "8QZWxw0NHk-i",
        "outputId": "2806bbf9-f562-4892-cc09-54764b344013"
      },
      "outputs": [
        {
          "output_type": "stream",
          "name": "stdout",
          "text": [
            "44\n"
          ]
        }
      ],
      "source": [
        "print(multadd (p1, p2, 1))"
      ]
    },
    {
      "cell_type": "markdown",
      "metadata": {
        "id": "sc23-fgEHk-i"
      },
      "source": [
        "## regla de escritura pato - enlace dinámico\n",
        "- prueba del pato: \"Si camina como un pato y grazna como un pato, entonces debe ser un pato\"\n",
        "- para determinar si una función se puede aplicar a un nuevo tipo, aplicamos la regla fundamental de polimorfismo de Python, llamada regla de tipeo de pato: <em> si todas las operaciones dentro de la función se pueden aplicar al tipo, la función se puede aplicar al tipo </em>\n",
        "- por ejemplo: https://en.wikipedia.org/wiki/Duck_typing"
      ]
    },
    {
      "cell_type": "code",
      "execution_count": null,
      "metadata": {
        "colab": {
          "base_uri": "https://localhost:8080/"
        },
        "id": "-n3-ncTnHk-i",
        "outputId": "231c298a-e54a-4402-cce2-f1bbbc6d5186"
      },
      "outputs": [
        {
          "output_type": "stream",
          "name": "stdout",
          "text": [
            "Duck flying\n",
            "Airplane flying\n"
          ]
        }
      ],
      "source": [
        "class Duck:\n",
        "    def fly(self):\n",
        "        print(\"Duck flying\")\n",
        "\n",
        "class Airplane:\n",
        "    def fly(self):\n",
        "        print(\"Airplane flying\")\n",
        "\n",
        "class Whale:\n",
        "    def swim(self):\n",
        "        print(\"Whale swimming\")\n",
        "\n",
        "# polymorphism\n",
        "def lift_off(entity):\n",
        "    entity.fly()\n",
        "    # ¡solo arroja un error si alguna entidad no tiene un atributo de vuelo durante el tiempo de ejecución!\n",
        "    # ¡Los lenguajes escritos estáticamente como C++ dan errores de tiempo de compilación!\n",
        "\n",
        "duck = Duck()\n",
        "airplane = Airplane()\n",
        "#whale = Whale()\n",
        "\n",
        "lift_off(duck) # prints `Duck flying`\n",
        "lift_off(airplane) # prints `Airplane flying`\n",
        "#lift_off(whale) # Throws the error `'Whale' object has no attribute 'fly'`"
      ]
    },
    {
      "cell_type": "code",
      "execution_count": null,
      "metadata": {
        "id": "K-5Y2w-cHk-i"
      },
      "outputs": [],
      "source": []
    }
  ],
  "metadata": {
    "kernelspec": {
      "display_name": "Python 3",
      "language": "python",
      "name": "python3"
    },
    "language_info": {
      "codemirror_mode": {
        "name": "ipython",
        "version": 3
      },
      "file_extension": ".py",
      "mimetype": "text/x-python",
      "name": "python",
      "nbconvert_exporter": "python",
      "pygments_lexer": "ipython3",
      "version": "3.7.3"
    },
    "colab": {
      "provenance": [],
      "include_colab_link": true
    }
  },
  "nbformat": 4,
  "nbformat_minor": 0
}