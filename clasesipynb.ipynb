{
  "nbformat": 4,
  "nbformat_minor": 0,
  "metadata": {
    "colab": {
      "provenance": [],
      "authorship_tag": "ABX9TyMPgJn6X9mYrLKGGCZrSK+4",
      "include_colab_link": true
    },
    "kernelspec": {
      "name": "python3",
      "display_name": "Python 3"
    },
    "language_info": {
      "name": "python"
    }
  },
  "cells": [
    {
      "cell_type": "markdown",
      "metadata": {
        "id": "view-in-github",
        "colab_type": "text"
      },
      "source": [
        "<a href=\"https://colab.research.google.com/github/apicem7217/Clase-9/blob/Phyton/clasesipynb.ipynb\" target=\"_parent\"><img src=\"https://colab.research.google.com/assets/colab-badge.svg\" alt=\"Open In Colab\"/></a>"
      ]
    },
    {
      "cell_type": "code",
      "execution_count": 1,
      "metadata": {
        "id": "Ok_l53A97ezR",
        "colab": {
          "base_uri": "https://localhost:8080/"
        },
        "outputId": "5881f86f-b215-410d-c2f1-cfbd9944dafb"
      },
      "outputs": [
        {
          "output_type": "execute_result",
          "data": {
            "text/plain": [
              "int"
            ]
          },
          "metadata": {},
          "execution_count": 1
        }
      ],
      "source": [
        "type(1)\n"
      ]
    },
    {
      "cell_type": "markdown",
      "source": [],
      "metadata": {
        "id": "swRZlcDeKvTm"
      }
    },
    {
      "cell_type": "markdown",
      "source": [],
      "metadata": {
        "id": "IUwf8bDEKvY2"
      }
    },
    {
      "cell_type": "markdown",
      "source": [
        "Clase libro**"
      ],
      "metadata": {
        "id": "c5tUg92VKvbn"
      }
    },
    {
      "cell_type": "code",
      "source": [],
      "metadata": {
        "id": "itH7vOhLKxYY"
      },
      "execution_count": null,
      "outputs": []
    },
    {
      "cell_type": "code",
      "source": [
        "Libro = {\n",
        "    \"Autor\": \"Gerardo\"\n",
        "}"
      ],
      "metadata": {
        "id": "R_KPaNgiKxbe"
      },
      "execution_count": 4,
      "outputs": []
    },
    {
      "cell_type": "code",
      "source": [
        "class Libro:\n",
        "  def _init_():\n",
        "    print(\"hola, me estoy imprimiento\")"
      ],
      "metadata": {
        "id": "QovxFTEEK-K9"
      },
      "execution_count": 9,
      "outputs": []
    },
    {
      "cell_type": "code",
      "source": [
        "libro = Libro()"
      ],
      "metadata": {
        "id": "hqVvHdWpK-OO"
      },
      "execution_count": 10,
      "outputs": []
    },
    {
      "cell_type": "code",
      "source": [
        "type(libro)"
      ],
      "metadata": {
        "colab": {
          "base_uri": "https://localhost:8080/"
        },
        "id": "TbEFjf4-K-Q_",
        "outputId": "4e90fed5-46bc-43a6-b821-85bcd645b0bc"
      },
      "execution_count": 12,
      "outputs": [
        {
          "output_type": "execute_result",
          "data": {
            "text/plain": [
              "__main__.Libro"
            ]
          },
          "metadata": {},
          "execution_count": 12
        }
      ]
    }
  ]
}